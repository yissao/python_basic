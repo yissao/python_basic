{
 "cells": [
  {
   "cell_type": "code",
   "execution_count": 23,
   "id": "06d28c97",
   "metadata": {},
   "outputs": [
    {
     "name": "stdout",
     "output_type": "stream",
     "text": [
      "teste teste , 123,456.31\n",
      "teste teste , 0000123456.31\n",
      "teste teste , 123456.31\n",
      "teste teste ,  123456.31\n",
      "teste teste ,          123456.31\n",
      "teste teste , 1.2e+05\n",
      "teste teste , 123456.314159200002904981\n",
      "teste teste , 123456.31\n",
      "teste teste , 6%\n",
      "teste teste , 5.554%\n"
     ]
    }
   ],
   "source": [
    "varia = 'teste '\n",
    "numero = 123456.3141592\n",
    "porcentagem = 0.0555444333\n",
    "base10 = 254\n",
    "print(f'teste {varia}, {numero:,.2f}')\n",
    "print(f'teste {varia}, {numero:013.2f}')\n",
    "print(f'teste {varia}, {numero:.2f}')\n",
    "print(f'teste {varia}, {numero: 8.2f}')\n",
    "print(f'teste {varia}, {numero: 18.2f}')\n",
    "print(f'teste {varia}, {numero:.2g}')\n",
    "print(f'teste {varia}, {numero:.24g}')\n",
    "print(f'teste {varia}, {numero:08.2f}')\n",
    "print(f'teste {varia}, {porcentagem:.0%}')\n",
    "print(f'teste {varia}, {porcentagem:.3%}')"
   ]
  },
  {
   "cell_type": "code",
   "execution_count": 43,
   "id": "9cb3aacc",
   "metadata": {},
   "outputs": [
    {
     "name": "stdout",
     "output_type": "stream",
     "text": [
      "00000254\n",
      "     254\n",
      "254\n",
      "0000000011111110\n",
      "fe\n",
      "FE\n",
      "0xfe\n",
      "0XFE\n",
      "00fe\n",
      "00FE\n",
      "1111_1110\n"
     ]
    }
   ],
   "source": [
    "#print(f'{base10:.04d}') #erro Precision not allowed in integer format specifier\n",
    "print(f'{base10:08d}')\n",
    "print(f'{base10: 8d}')\n",
    "print(f'{base10:,}')\n",
    "print(f'{base10:016b}')\n",
    "print(f'{base10:x}')\n",
    "print(f'{base10:X}')\n",
    "print(f'{base10:#x}')\n",
    "print(f'{base10:#X}')\n",
    "print(f'{base10:04x}')\n",
    "print(f'{base10:04X}')\n",
    "print(f'{base10:09_b}')\n",
    "# print(f'{base10:09-b}') #Invalid format specifier '09-b' for object of type 'int'\n",
    "# erro também com 09 b; 09.b;\n"
   ]
  },
  {
   "cell_type": "code",
   "execution_count": 44,
   "id": "82b75c26",
   "metadata": {},
   "outputs": [
    {
     "ename": "SyntaxError",
     "evalue": "invalid syntax (2460284547.py, line 2)",
     "output_type": "error",
     "traceback": [
      "\u001b[1;36m  Cell \u001b[1;32mIn[44], line 2\u001b[1;36m\u001b[0m\n\u001b[1;33m    printf({ola!s})\u001b[0m\n\u001b[1;37m               ^\u001b[0m\n\u001b[1;31mSyntaxError\u001b[0m\u001b[1;31m:\u001b[0m invalid syntax\n"
     ]
    }
   ],
   "source": [
    "ola = 'olá'\n",
    "printf({ola!s})"
   ]
  }
 ],
 "metadata": {
  "kernelspec": {
   "display_name": "Python 3",
   "language": "python",
   "name": "python3"
  },
  "language_info": {
   "codemirror_mode": {
    "name": "ipython",
    "version": 3
   },
   "file_extension": ".py",
   "mimetype": "text/x-python",
   "name": "python",
   "nbconvert_exporter": "python",
   "pygments_lexer": "ipython3",
   "version": "3.12.10"
  }
 },
 "nbformat": 4,
 "nbformat_minor": 5
}
