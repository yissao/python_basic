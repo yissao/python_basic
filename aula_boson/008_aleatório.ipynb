{
 "cells": [
  {
   "cell_type": "code",
   "execution_count": null,
   "id": "dbfa7474",
   "metadata": {},
   "outputs": [
    {
     "name": "stdout",
     "output_type": "stream",
     "text": [
      "13.0\n"
     ]
    }
   ],
   "source": [
    "import random\n",
    "##valor= random.randint(1,2)\n",
    "##print(valor)\n",
    "##\n",
    "##for i in range(5):\n",
    "##    print(random.randint(1,20))\n",
    "##    \n",
    "##for i in range(5):\n",
    "##    print(random.random())\n",
    "##\n",
    "##for i in range(5):\n",
    "##    print(random.random()*10)\n",
    "##\n",
    "##for i in range(5):\n",
    "##    print(round(random.random()*10,2))\n",
    "##\n",
    "##for i in range(5):\n",
    "##    print(random.uniform(2,5))\n",
    "\n",
    "lista=['fulano','beltrano','ciclano','jon_doe','jane_doe','zé_ninguém']\n",
    "nlista=[1,2,3,4,5,6,7]\n",
    "#print(random.choice(lista))\n",
    "\n",
    "#print(random.sample(lista,3))\n",
    "\n",
    "#print(random.shuffle(lista))\n",
    "n=random.shuffle(nlista)\n",
    "print(n)\n",
    "print(nlista)\n"
   ]
  }
 ],
 "metadata": {
  "kernelspec": {
   "display_name": "Python 3",
   "language": "python",
   "name": "python3"
  },
  "language_info": {
   "codemirror_mode": {
    "name": "ipython",
    "version": 3
   },
   "file_extension": ".py",
   "mimetype": "text/x-python",
   "name": "python",
   "nbconvert_exporter": "python",
   "pygments_lexer": "ipython3",
   "version": "3.13.3"
  }
 },
 "nbformat": 4,
 "nbformat_minor": 5
}
