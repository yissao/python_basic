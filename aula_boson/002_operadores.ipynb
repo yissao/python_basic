{
 "cells": [
  {
   "cell_type": "code",
   "execution_count": 4,
   "id": "8638ffe1",
   "metadata": {},
   "outputs": [
    {
     "name": "stdout",
     "output_type": "stream",
     "text": [
      "A soma dos dois valores é:  16\n",
      "A soma dos dois valores é:  13\n",
      "O resto da divisão x/y é:  1\n",
      "O resto da divisão y/x é:  3\n",
      "\n",
      "\n",
      "O modulo da divisão x/y é:  3\n",
      "O modulo da divisão y/x é:  0\n",
      "x e y agora valem: %x,%y 4 2\n",
      "x e y agora valem:  4 ,  2\n",
      "x e y agora valem: 4, 2\n",
      "A divisão sempre retorna float:  2.0\n"
     ]
    }
   ],
   "source": [
    "x=y=z=0\n",
    "x=7\n",
    "y=9\n",
    "\n",
    "z=x+y\n",
    "\n",
    "print('A soma dos dois valores é: ',z)\n",
    "\n",
    "x=int(input('valor de x: '))\n",
    "y=int(input('valor de y: '))\n",
    "\n",
    "print('A soma dos dois valores é: ',x+y)\n",
    "print('O resto da divisão x/y é: ',x%y)\n",
    "print('O resto da divisão y/x é: ',y%x)\n",
    "print('\\n')\n",
    "print('O modulo da divisão x/y é: ',x//y)# floor division discards the fractional part\n",
    "print('O modulo da divisão y/x é: ',y//x)\n",
    "\n",
    "x=4\n",
    "y=2\n",
    "\n",
    "print('x e y agora valem: %x,%y',x,y)# corrigir, queria que substituice na string %x, %y\n",
    "print('x e y agora valem: ',x,', ',y)# corrigido\n",
    "print(f'x e y agora valem: {x}, {y}')\n",
    "print('A divisão sempre retorna float: ',x/y)\n"
   ]
  }
 ],
 "metadata": {
  "kernelspec": {
   "display_name": "Python 3",
   "language": "python",
   "name": "python3"
  },
  "language_info": {
   "codemirror_mode": {
    "name": "ipython",
    "version": 3
   },
   "file_extension": ".py",
   "mimetype": "text/x-python",
   "name": "python",
   "nbconvert_exporter": "python",
   "pygments_lexer": "ipython3",
   "version": "3.13.3"
  }
 },
 "nbformat": 4,
 "nbformat_minor": 5
}
