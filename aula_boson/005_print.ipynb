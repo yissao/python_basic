{
 "cells": [
  {
   "cell_type": "code",
   "execution_count": null,
   "id": "dbfa7474",
   "metadata": {},
   "outputs": [],
   "source": [
    "#sintaxe\n",
    "#print(objetos, argumentos)\n",
    "\n",
    "##mensagem = 'função print'\n",
    "##print(mensagem)\n",
    "##print('teste')\n",
    "##print(\"teste\")\n",
    "##\n",
    "##nome='Issao Yamazaki'\n",
    "##print('testes do ',nome)\n",
    "##\n",
    "##nome = input('digite seu nome: ')\n",
    "##print('Olá '+nome+ '! Bem vindo')\n",
    "##\n",
    "##print('teste')\n",
    "##print(\"teste\",end='')\n",
    "##print('teste',end='')\n",
    "##print(\"teste\",end='')\n",
    "##print('teste',end='')\n",
    "##print(\"teste\")\n",
    "##print('nova linha')\n",
    "\n",
    "nome = 'Adriana'\n",
    "idade = 51\n",
    "msg_formatada = 'O nome dela é {0} e ela tem {1} anos. {0}{1}{1}'.format(nome, idade)\n",
    "print(msg_formatada)\n",
    "print('O nome dela é {0} e ela tem {1} anos. {0}{1}{1}'.format(nome, idade))\n",
    "\n",
    "msgf=f'Olá, meu nome é {nome} e tenho {idade} anos.'\n",
    "print(msgf)\n",
    "\n",
    "a=10\n",
    "b=5\n",
    "res=f'A soma de {a} com {b} é {a+b}'\n",
    "print(res)\n",
    "\n",
    "valor=123.579637\n",
    "print(f'O valor é {valor:010.2f}')\n",
    "print(f'O valor é \\n\\t\\'{valor:.2f}\\'')\n"
   ]
  }
 ],
 "metadata": {
  "kernelspec": {
   "display_name": "Python 3",
   "language": "python",
   "name": "python3"
  },
  "language_info": {
   "codemirror_mode": {
    "name": "ipython",
    "version": 3
   },
   "file_extension": ".py",
   "mimetype": "text/x-python",
   "name": "python",
   "nbconvert_exporter": "python",
   "pygments_lexer": "ipython3",
   "version": "3.13.3"
  }
 },
 "nbformat": 4,
 "nbformat_minor": 5
}
