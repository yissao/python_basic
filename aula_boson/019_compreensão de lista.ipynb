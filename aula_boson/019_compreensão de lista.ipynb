{
 "cells": [
  {
   "cell_type": "code",
   "execution_count": null,
   "id": "dbfa7474",
   "metadata": {},
   "outputs": [],
   "source": [
    "##numeros = [1,2,3,4,5,6,7,8,9,10,11,12,13,14,15,16]\n",
    "##\n",
    "##aoquadrado = list(map(lambda n: n**2,numeros))\n",
    "##print(aoquadrado)\n",
    "\n",
    "##numeros = [1,2,3,4,5,6,7,8,9,10,11,12,13,14,15,16]\n",
    "##\n",
    "##aoquadrado = [n**2 for n in numeros]\n",
    "##print(aoquadrado)\n",
    "\n",
    "###criar uma lista de numeros pares de 0 a 10\n",
    "##pares=[num for num in range(11) if num%2==0]\n",
    "##print(pares)\n",
    "\n",
    "##frase = 'A inovação do Whisper reside em sua capacidade de lidar com uma ampla gama de sotaques, idiomas e ambientes acústicos variados, tornando-o uma ferramenta poderosa para a transcrição de áudio, treinado com 680 mil horas de dados rotulados.'\n",
    "##vogais = ['a','e','i','o','u']\n",
    "##\n",
    "##lista_vogais=[v for v in frase if v in vogais]\n",
    "##print(f'A frase possui {len(lista_vogais)} vogais:')\n",
    "##print(lista_vogais)\n",
    "\n",
    "#distributiva entre 2 listas\n",
    "distributiva = [k*m for k in[2,3,5] for m in [10,20,30]]\n",
    "print(distributiva)\n"
   ]
  }
 ],
 "metadata": {
  "kernelspec": {
   "display_name": "Python 3",
   "language": "python",
   "name": "python3"
  },
  "language_info": {
   "codemirror_mode": {
    "name": "ipython",
    "version": 3
   },
   "file_extension": ".py",
   "mimetype": "text/x-python",
   "name": "python",
   "nbconvert_exporter": "python",
   "pygments_lexer": "ipython3",
   "version": "3.13.3"
  }
 },
 "nbformat": 4,
 "nbformat_minor": 5
}
