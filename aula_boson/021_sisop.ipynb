{
 "cells": [
  {
   "cell_type": "code",
   "execution_count": null,
   "id": "dbfa7474",
   "metadata": {},
   "outputs": [],
   "source": [
    "##import os\n",
    "##os.name\n",
    "##os.getcwd() # get current work directory\n",
    "##os.curdir\n",
    "##os.listdir()\n",
    "##os.listdir('c:\\\\')\n",
    "##os.chdir('..\\\\')\n",
    "##os.mkdir('teste')\n",
    "##os.chdir('teste')\n",
    "##\n",
    "##pasta_nova='teste2'\n",
    "##pasta_pai='..\\\\'\n",
    "##caminho_completo=os.path.join(pasta_pai, pasta_nova)\n",
    "##print(caminho_completo)\n",
    "##os.mkdir(caminho_completo)\n",
    "##\n",
    "##os.rename('teste2', 'teste10')\n",
    "##os.rmdir('teste10')\n",
    "##\n",
    "##os.path.basename(os.getcwd()) #retorna somente o diretorio atual sem caminho\n",
    "##os.path.dirname(os.getcwd()) #retorna somente o diretorio pai sem caminho\n",
    "##\n",
    "##os.path.exists('c:\\\\users\\\\raziel\\\\documents\\\\projetos\\\\python')\n",
    "##os.path.exists('c:\\users\\raziel\\documents\\projetos\\python') #erro\n",
    "##\n",
    "##os.path.isdir('c:\\\\users\\\\raziel\\\\documents\\\\projetos\\\\python')\n",
    "##os.path.isfile('c:\\\\users\\\\raziel\\\\documents\\\\projetos\\\\python\\\\sets1.py')\n",
    "##\n",
    "##manipulador = open('arq.txt','x')\n",
    "##manipulador.close()\n",
    "##arquivo=os.path.basename('c:\\\\users\\\\raziel\\\\documents\\\\projetos\\\\python\\arq.txt')\n",
    "##print(arquivo)\n",
    "##os.path.splitext(arquivo)\n",
    "##os.remove('arq.txt')\n",
    "\n",
    "import os\n",
    "os.chdir('c:\\\\users\\\\raziel\\\\documents\\\\projetos\\\\python\\\\teste')\n",
    "print(f'Diretorio atual: {os.getcwd()}')\n",
    "\n",
    "padrão_nome = input('Qual o padrão de nomes(sem extensão!')\n",
    "\n",
    "for contador, arq in enumerate(os.listdir()):\n",
    "    if os.path.isfile(arq):\n",
    "        nome_arq, exten_arq = os.path.splitext(arq)\n",
    "        nome_arq = padrão_nome + ' ' + str(contador)\n",
    "\n",
    "        nome_novo=f'{nome_arq}{exten_arq}'\n",
    "        os.rename(arq, nome_novo)\n",
    "        print(f'arquivo {arq} renomeado para {nome_novo}')\n",
    "print(f'todos renomeados')\n",
    "\n"
   ]
  }
 ],
 "metadata": {
  "kernelspec": {
   "display_name": "Python 3",
   "language": "python",
   "name": "python3"
  },
  "language_info": {
   "codemirror_mode": {
    "name": "ipython",
    "version": 3
   },
   "file_extension": ".py",
   "mimetype": "text/x-python",
   "name": "python",
   "nbconvert_exporter": "python",
   "pygments_lexer": "ipython3",
   "version": "3.13.3"
  }
 },
 "nbformat": 4,
 "nbformat_minor": 5
}
