{
 "cells": [
  {
   "cell_type": "code",
   "execution_count": null,
   "id": "dbfa7474",
   "metadata": {},
   "outputs": [],
   "source": [
    "##planeta_anão = {'Plutão', 'Ceres', 'Eris', 'Haumea', 'Makemake'}\n",
    "##print(planeta_anão)\n",
    "##print(len(planeta_anão))\n",
    "##print('Marte' not in planeta_anão)\n",
    "##\n",
    "astros = ['lua', 'venus', 'venus', 'terra', 'sirius', 'lua']\n",
    "print(astros)\n",
    "astros_set=set(astros)\n",
    "print(astros_set)\n",
    "\n",
    "#astros2 = ['lua', 'venus', 'venus', 'terra', 'sirius', 'lua', 'halley']\n",
    "#TypeError: unsupported operand type(s) for |: 'list' and 'list'\n",
    "\n",
    "astros1 = {'lua', 'venus', 'venus', 'terra', 'sirius', 'lua','io'}\n",
    "astros2 = {'lua', 'venus', 'venus', 'terra', 'sirius', 'lua', 'halley'}\n",
    "print(astros1 == astros2)\n",
    "print(astros1|astros2)\n",
    "print(astros1.union(astros2))\n",
    "\n",
    "print(astros1&astros2)\n",
    "print(astros1.intersection(astros2))\n",
    "\n",
    "print(astros1^astros2)\n",
    "print(astros1.symmetric_difference(astros2))\n",
    "\n",
    "astros1.add('Urano')\n",
    "#astros1.add('sol','jupiter')#TypeError: add() takes exactly one argument (2 given)\n",
    "astros1.add('sol')\n",
    "print(astros1)\n",
    "#astros1.remove('plutao') #KeyError: 'plutao'\n",
    "astros1.remove('lua')\n",
    "print(astros1)\n",
    "astros1.discard('plutao') #Não dá erro\n",
    "astros1.discard('sol')\n",
    "astros1.pop() #remove aleatoriamente, executar varias vezes para conferir\n",
    "print(astros1)\n",
    "astros1.clear()\n",
    "print(astros1)\n",
    "\n",
    "\n",
    "\n"
   ]
  }
 ],
 "metadata": {
  "kernelspec": {
   "display_name": "Python 3",
   "language": "python",
   "name": "python3"
  },
  "language_info": {
   "codemirror_mode": {
    "name": "ipython",
    "version": 3
   },
   "file_extension": ".py",
   "mimetype": "text/x-python",
   "name": "python",
   "nbconvert_exporter": "python",
   "pygments_lexer": "ipython3",
   "version": "3.13.3"
  }
 },
 "nbformat": 4,
 "nbformat_minor": 5
}
