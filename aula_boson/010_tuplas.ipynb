{
 "cells": [
  {
   "cell_type": "code",
   "execution_count": null,
   "id": "dbfa7474",
   "metadata": {},
   "outputs": [],
   "source": [
    "#são imutáveis\n",
    "tupla = (2,4,6,8)\n",
    "l_tupla = ('a','b','c','d','d','d')\n",
    "print(tupla)\n",
    "print(tupla[2])\n",
    "print(tupla[-1])\n",
    "print(len(tupla))\n",
    "print(l_tupla.count('d'))\n",
    "print(l_tupla[1:3])\n",
    "print(l_tupla[:4])\n",
    "print(l_tupla[-4:])\n",
    "print('b' in l_tupla)\n",
    "print(sum(tupla))\n",
    "print(min(tupla))\n",
    "print(max(tupla))\n",
    "\n",
    "tupla=(1,3,5,7,9)\n",
    "print(tupla)\n",
    "\n",
    "# https://youtu.be/-VeVq64Fgw0?t=14403\n",
    "# 4:00:03\n"
   ]
  }
 ],
 "metadata": {
  "kernelspec": {
   "display_name": "Python 3",
   "language": "python",
   "name": "python3"
  },
  "language_info": {
   "codemirror_mode": {
    "name": "ipython",
    "version": 3
   },
   "file_extension": ".py",
   "mimetype": "text/x-python",
   "name": "python",
   "nbconvert_exporter": "python",
   "pygments_lexer": "ipython3",
   "version": "3.13.3"
  }
 },
 "nbformat": 4,
 "nbformat_minor": 5
}
