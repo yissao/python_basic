{
 "cells": [
  {
   "cell_type": "code",
   "execution_count": 1,
   "id": "dbfa7474",
   "metadata": {},
   "outputs": [
    {
     "name": "stdout",
     "output_type": "stream",
     "text": [
      "sua média é 2.5 \n",
      "\n",
      "reprovado\n",
      "sua média é 2.5 \n",
      "\n",
      "reprovado\n",
      "sua média é 2.5 \n",
      "\n"
     ]
    }
   ],
   "source": [
    "#simples, composto, aninhado/encadeado\n",
    "\n",
    "# media,n1,n2=0.0TypeError: cannot unpack non-iterable float object\n",
    "media=n1=n2=0.0\n",
    "n1=float(input('digite a primeira nota: '))\n",
    "n2=float(input('digite a segunda nota: '))\n",
    "\n",
    "media=(n1+n2)/2\n",
    "if (media>=7):\n",
    "    print('aprovado')\n",
    "    print('ok')\n",
    "print('sua média é {}'.format(media),'\\n')\n",
    "#-------------\n",
    "if (media>=7):\n",
    "    print('aprovado')\n",
    "    print('ok')\n",
    "else:\n",
    "    print('reprovado')\n",
    "print('sua média é {}'.format(media),'\\n')\n",
    "#-------------\n",
    "if (media>=7):\n",
    "    print('aprovado')\n",
    "    print('ok')\n",
    "elif (media>=5):\n",
    "    print('recuperação')\n",
    "    print('good luck')\n",
    "else:\n",
    "    print('reprovado')\n",
    "    \n",
    "print('sua média é {}'.format(media),'\\n')\n",
    "\n",
    "#proxima aula: 01:52:17\n",
    "#https://youtu.be/-VeVq64Fgw0?t=6732\n",
    "#https://www.youtube.com/watch?v=-VeVq64Fgw0\n"
   ]
  }
 ],
 "metadata": {
  "kernelspec": {
   "display_name": "Python 3",
   "language": "python",
   "name": "python3"
  },
  "language_info": {
   "codemirror_mode": {
    "name": "ipython",
    "version": 3
   },
   "file_extension": ".py",
   "mimetype": "text/x-python",
   "name": "python",
   "nbconvert_exporter": "python",
   "pygments_lexer": "ipython3",
   "version": "3.13.3"
  }
 },
 "nbformat": 4,
 "nbformat_minor": 5
}
