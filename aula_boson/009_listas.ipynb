{
 "cells": [
  {
   "cell_type": "code",
   "execution_count": null,
   "id": "dbfa7474",
   "metadata": {},
   "outputs": [
    {
     "name": "stdout",
     "output_type": "stream",
     "text": [
      "None\n",
      "[4, 2, 6, 5, 1, 7, 3]\n"
     ]
    }
   ],
   "source": [
    "#sintaxe: nome_lista = [valor1,valor2,valor3,...,valorn]\n",
    "##l1 = [23,6,78]\n",
    "##l2 = [20,4,74]\n",
    "##valores = l1+l2\n",
    "##print(f'concatenados: {valores}')\n",
    "##print(len(valores))\n",
    "##print(sorted(valores, reverse=True))\n",
    "##print(valores)\n",
    "##print(sum(valores))\n",
    "##print(min(valores))\n",
    "##print(max(valores))\n",
    "##\n",
    "##valores.append('xx')\n",
    "##print(valores)\n",
    "##valores.pop()\n",
    "##print(valores)\n",
    "##valores.pop(2)\n",
    "##print(valores)\n",
    "##valores.insert(2,100)\n",
    "##print(valores)\n",
    "##print('xx' in valores)\n",
    "#=====================\n",
    "\n",
    "##planetas=['Mercúrio','Vênus','Terra','Marte','Júpiter','Urano']\n",
    "##for i in planetas:\n",
    "##    print(i,end='')\n",
    "#=====================\n",
    "\n",
    "##bebidas=[]\n",
    "##for i in range(5):\n",
    "##    bebida = input('digite uma bebida: ')\n",
    "##    bebidas.append(bebida)\n",
    "##bebidas.sort()\n",
    "##for j in bebidas:\n",
    "##    print(j)\n",
    "\n",
    "bebidas=[]\n",
    "for i in range(5):\n",
    "    # bebida = input('digite uma bebida: ')\n",
    "    bebidas.append(input('digite uma bebida: '))\n",
    "bebidas.sort()\n",
    "for j in bebidas:\n",
    "    print(j)\n"
   ]
  }
 ],
 "metadata": {
  "kernelspec": {
   "display_name": "Python 3",
   "language": "python",
   "name": "python3"
  },
  "language_info": {
   "codemirror_mode": {
    "name": "ipython",
    "version": 3
   },
   "file_extension": ".py",
   "mimetype": "text/x-python",
   "name": "python",
   "nbconvert_exporter": "python",
   "pygments_lexer": "ipython3",
   "version": "3.13.3"
  }
 },
 "nbformat": 4,
 "nbformat_minor": 5
}
