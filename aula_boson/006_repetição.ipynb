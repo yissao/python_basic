{
 "cells": [
  {
   "cell_type": "code",
   "execution_count": null,
   "id": "dbfa7474",
   "metadata": {},
   "outputs": [
    {
     "name": "stdout",
     "output_type": "stream",
     "text": [
      "O nome dela é Adriana e ela tem 51 anos. Adriana5151\n",
      "O nome dela é Adriana e ela tem 51 anos. Adriana5151\n",
      "Olá, meu nome é Adriana e tenho 51 anos.\n",
      "A soma de 10 com 5 é 15\n",
      "O valor é 0000123.58\n",
      "O valor é \n",
      "\t'123.58'\n"
     ]
    }
   ],
   "source": [
    "#while \n",
    "##num=0\n",
    "##while(num<=10):\n",
    "##    print(num)\n",
    "##    num+=1\n",
    "##print(f'fim {num}')\n",
    "\n",
    "##nome=None\n",
    "##while(1): #só encerra quando achar um break\n",
    "##    print('nome ou x para parar: ')\n",
    "##    nome = input()\n",
    "##    if nome == 'x' or nome == 'X':\n",
    "##        break\n",
    "##    print(f'Bem-vindo, {nome}')\n",
    "##print('fim')\n",
    "#-----------------------\n",
    "\n",
    "#Sintaxe\n",
    "#for item in sequencia:\n",
    "    #instruções\n",
    "    #executadas para\n",
    "    #cada item da sequencia\n",
    "\n",
    "##lista = [1,2,3,4,5,6,7,8,9,10]\n",
    "##for item in lista:\n",
    "##    print(item)\n",
    "##\n",
    "##palavra = 'executada'\n",
    "##for item in palavra:\n",
    "##    print(item)\n",
    "##\n",
    "##for numero in range(1,11):\n",
    "##    print(numero)\n",
    "##\n",
    "##for numero in range(10):\n",
    "##    print(numero,end='')\n",
    "##    print(' issao')\n",
    "##\n",
    "##for numero in range(10,0,-2):\n",
    "##    print(numero,end='')\n",
    "##    print(' issao')\n",
    "#-----------------------\n",
    "\n",
    "pedras = ('rubi','quartzo','diamante','esmeralda','safira','turmalina')\n",
    "for pedra in pedras:\n",
    "    if pedra == 'quartzo':\n",
    "        continue #pula execução do laço mas não sai que nem o break\n",
    "    print(pedra)\n",
    "\n",
    "# https://youtu.be/-VeVq64Fgw0?t=9582\n",
    "# 2:39:42\n"
   ]
  }
 ],
 "metadata": {
  "kernelspec": {
   "display_name": "Python 3",
   "language": "python",
   "name": "python3"
  },
  "language_info": {
   "codemirror_mode": {
    "name": "ipython",
    "version": 3
   },
   "file_extension": ".py",
   "mimetype": "text/x-python",
   "name": "python",
   "nbconvert_exporter": "python",
   "pygments_lexer": "ipython3",
   "version": "3.13.3"
  }
 },
 "nbformat": 4,
 "nbformat_minor": 5
}
