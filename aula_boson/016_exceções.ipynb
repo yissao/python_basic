{
 "cells": [
  {
   "cell_type": "code",
   "execution_count": null,
   "id": "dbfa7474",
   "metadata": {},
   "outputs": [],
   "source": [
    "##n1 = int(input('Digite um número: '))\n",
    "##n2 = int(input('Digite outro: '))\n",
    "##\n",
    "##try:\n",
    "##    r=round(n1/n2,2)\n",
    "##\n",
    "##except ZeroDivisionError:\n",
    "##    print(f'não é possível dividir por zero')\n",
    "##else:\n",
    "##    print(f'Resultado: {r}')\n",
    "##\n",
    "##print('continuando>>>')\n",
    "\n",
    "#-----------------------\n",
    "def div(k,j):\n",
    "    return round(k/j,2)\n",
    "\n",
    "if __name__ == '__main__':\n",
    "    while True:\n",
    "        try:\n",
    "            n1 = int(input('Digite um número: '))\n",
    "            n2 = int(input('Digite outro: '))\n",
    "            break\n",
    "        except ValueError:\n",
    "            print(f'Erro ao ler o valor. Tente novamente. ')\n",
    "    try:\n",
    "        r=div(n1, n2)\n",
    "    except ZeroDivisionError:\n",
    "        print(f'não é possível dividir por zero')\n",
    "    except:\n",
    "        print('erro não previsto')\n",
    "    else:\n",
    "        print(f'Resultado: {r}')\n",
    "    finally:\n",
    "        print('acabou...')\n"
   ]
  }
 ],
 "metadata": {
  "kernelspec": {
   "display_name": "Python 3",
   "language": "python",
   "name": "python3"
  },
  "language_info": {
   "codemirror_mode": {
    "name": "ipython",
    "version": 3
   },
   "file_extension": ".py",
   "mimetype": "text/x-python",
   "name": "python",
   "nbconvert_exporter": "python",
   "pygments_lexer": "ipython3",
   "version": "3.13.3"
  }
 },
 "nbformat": 4,
 "nbformat_minor": 5
}
