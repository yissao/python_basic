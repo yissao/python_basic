{
 "cells": [
  {
   "cell_type": "code",
   "execution_count": null,
   "id": "dbfa7474",
   "metadata": {},
   "outputs": [],
   "source": [
    "###trocar valores entre duas variáveis\n",
    "##\n",
    "##a=12\n",
    "##b=34\n",
    "##print(a,b)\n",
    "##a,b=b,a\n",
    "##print(a,b)\n",
    "\n",
    "###operador condicional ternário\n",
    "##a=12\n",
    "##b=34\n",
    "##menor=a if a<b else b\n",
    "##print(f'Menor valor= {menor}')\n",
    "##print(f'Menor valor= {(b,a)[a<b]}')\n",
    "\n",
    "###Generators consome menos recurso da maquina\n",
    "##valores=[1,3,5,7,9,11,13,15]\n",
    "##quadrados = (item**2 for item in valores)\n",
    "##print(quadrados)\n",
    "##for i in quadrados:\n",
    "##    print(i)\n",
    "\n",
    "###função enumerate()\n",
    "##bebidas = ['cafe','cha','suco','agua']\n",
    "##for i, bebida in enumerate(bebidas):\n",
    "##    print(f'Indice: {i}, bebida: {bebida}')\n",
    "##\n",
    "##temperaturas=[-1, 10, 5, -3, 8, 4, -2, -5, 7]\n",
    "##total = 0\n",
    "##for i, t in enumerate(temperaturas):\n",
    "##    print(f'Indice: {i}, temperatura: {t}')\n",
    "##    if t<0:\n",
    "##        total +=1\n",
    "##    print(total)\n",
    "\n",
    "#Gerenciamento de contexto com with\n",
    "with open('frutas.dat','r', encoding='utf-8') as a:\n",
    "    for linha in a:\n",
    "        print(linha.rstrip())\n"
   ]
  }
 ],
 "metadata": {
  "kernelspec": {
   "display_name": "Python 3",
   "language": "python",
   "name": "python3"
  },
  "language_info": {
   "codemirror_mode": {
    "name": "ipython",
    "version": 3
   },
   "file_extension": ".py",
   "mimetype": "text/x-python",
   "name": "python",
   "nbconvert_exporter": "python",
   "pygments_lexer": "ipython3",
   "version": "3.13.3"
  }
 },
 "nbformat": 4,
 "nbformat_minor": 5
}
