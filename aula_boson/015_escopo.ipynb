{
 "cells": [
  {
   "cell_type": "code",
   "execution_count": null,
   "id": "dbfa7474",
   "metadata": {},
   "outputs": [],
   "source": [
    "# Escopo Global e Local\n",
    "\n",
    "##var_global = 'Issao Yamazaki'\n",
    "##\n",
    "##def escreva():\n",
    "##    var_local = 'Consultor Financeiro'\n",
    "##    print(f'Variavel Global: {var_global}')\n",
    "##    print(f'Variavel Local: {var_local}')\n",
    "##\n",
    "##if __name__ == '__main__':\n",
    "##    print(f'executar a função escreva()')\n",
    "##    escreva()\n",
    "##    print(f'Variavel Global: {var_global}')\n",
    "##    #print(f'Variavel Local: {var_local}') #NameError: name 'var_local' is not defined\n",
    "\n",
    "##var_global = 'Issao Yamazaki'\n",
    "##\n",
    "##def escreva():\n",
    "##    var_global= 'issao.pro@gmail.com' #cria outra variável. Não altera a global\n",
    "##    var_local = 'Consultor Financeiro'\n",
    "##    print(f'Variavel Global: {var_global}')\n",
    "##    print(f'Variavel Local: {var_local}')\n",
    "##\n",
    "##if __name__ == '__main__':\n",
    "##    print(f'executar a função escreva()')\n",
    "##    escreva()\n",
    "##    print(f'Variavel Global: {var_global}')\n",
    "##    #print(f'Variavel Local: {var_local}') #NameError: name 'var_local' is not defined\n",
    "\n",
    "var_global = 'Issao Yamazaki'\n",
    "\n",
    "def escreva():\n",
    "    global var_global #='issao.pro@gmail.com' #não pode atribuir na mesma linha\n",
    "    var_global= 'issao.pro@gmail.com' # altera a global, mas tem q ser nesta linha\n",
    "    var_local = 'Consultor Financeiro'\n",
    "    print(f'Variavel Global: {var_global}')\n",
    "    print(f'Variavel Local: {var_local}')\n",
    "\n",
    "if __name__ == '__main__':\n",
    "    print(f'executar a função escreva()')\n",
    "    escreva()\n",
    "    print(f'Variavel Global: {var_global}')\n",
    "    #print(f'Variavel Local: {var_local}') #NameError: name 'var_local' is not defined\n",
    "    \n"
   ]
  }
 ],
 "metadata": {
  "kernelspec": {
   "display_name": "Python 3",
   "language": "python",
   "name": "python3"
  },
  "language_info": {
   "codemirror_mode": {
    "name": "ipython",
    "version": 3
   },
   "file_extension": ".py",
   "mimetype": "text/x-python",
   "name": "python",
   "nbconvert_exporter": "python",
   "pygments_lexer": "ipython3",
   "version": "3.13.3"
  }
 },
 "nbformat": 4,
 "nbformat_minor": 5
}
