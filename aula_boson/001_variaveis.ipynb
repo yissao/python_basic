{
 "cells": [
  {
   "cell_type": "code",
   "execution_count": 1,
   "id": "97bc2a67",
   "metadata": {},
   "outputs": [],
   "source": [
    "# this is the first comment\n",
    "spam = 1  # and this is the second comment\n",
    "          # ... and now a third!\n",
    "text = \"# This is not a comment because it's inside quotes.\"\n"
   ]
  },
  {
   "cell_type": "code",
   "execution_count": null,
   "id": "f31b5def",
   "metadata": {},
   "outputs": [
    {
     "name": "stdout",
     "output_type": "stream",
     "text": [
      "Fábio\n",
      "Fábio\n"
     ]
    }
   ],
   "source": [
    "\n",
    "#------------------\n",
    "nome = 'Fábio' #Fábio é uma string - nome é uma variável; Nome,nOme,noMe são diferentes\n",
    "print(nome) \n",
    "print (nome)\n",
    "#------------------\n",
    "##1nome='erro, variável não pode começar com número'\n",
    "##print(1nome) #'erro, variável não pode começar com número'\n",
    "#------------------\n"
   ]
  },
  {
   "cell_type": "code",
   "execution_count": null,
   "id": "59e2b8be",
   "metadata": {},
   "outputs": [
    {
     "name": "stdout",
     "output_type": "stream",
     "text": [
      "Issao 47\n",
      "inverte\n",
      "47 Issao\n",
      "<class 'float'>\n",
      "<class 'int'>\n",
      "<class 'int'>\n",
      "<class 'str'>\n",
      "<class 'bool'>\n",
      "<class 'complex'>\n",
      "True\n",
      "True\n",
      "47 33\n",
      "<class 'float'>\n",
      "33.0\n"
     ]
    }
   ],
   "source": [
    "\n",
    "media = 0\n",
    "n1=n2=n3=n4=0.0\n",
    "nome,idade='Issao',47\n",
    "estado_logico=True\n",
    "print(nome,idade)\n",
    "print(\"inverte\")\n",
    "nome,idade=idade,nome\n",
    "print(nome,idade)\n",
    "print(type(n1))\n",
    "print(type(media))\n",
    "print(type(nome))\n",
    "print(type(idade))\n",
    "print(type(estado_logico))\n",
    "print(type(1+2j))\n",
    "\n",
    "print(isinstance(n1,float))\n",
    "print(isinstance(media, (int, float))) #achar explicação por que é True? Lógica OU, não só retorna True ou False\n",
    "\n",
    "idade=33\n",
    "print(nome,idade)\n",
    "\n",
    "media=idade+n1\n",
    "print(type(media))\n",
    "print(media)\n",
    "#------------------\n",
    "\n"
   ]
  }
 ],
 "metadata": {
  "kernelspec": {
   "display_name": "Python 3",
   "language": "python",
   "name": "python3"
  },
  "language_info": {
   "codemirror_mode": {
    "name": "ipython",
    "version": 3
   },
   "file_extension": ".py",
   "mimetype": "text/x-python",
   "name": "python",
   "nbconvert_exporter": "python",
   "pygments_lexer": "ipython3",
   "version": "3.13.3"
  }
 },
 "nbformat": 4,
 "nbformat_minor": 5
}
