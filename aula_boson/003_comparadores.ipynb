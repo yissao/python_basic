{
 "cells": [
  {
   "cell_type": "code",
   "execution_count": 1,
   "id": "dbfa7474",
   "metadata": {},
   "outputs": [
    {
     "name": "stdout",
     "output_type": "stream",
     "text": [
      "Digite um número: \n",
      "são iguais?  False \n",
      "\n",
      "11  é maior que  10 ?  True \n",
      "\n",
      "11 é maior que 10 ? True \n",
      "\n",
      "11 é maior que 10 ? True \n",
      "\n",
      "São diferentes? True\n"
     ]
    }
   ],
   "source": [
    "x=y=z=False\n",
    "n1=n2=0\n",
    "\n",
    "print('Digite um número: ') \n",
    "n1=int(input()) #forma de pegar dados do usuário\n",
    "n2=int(input('Digite outro: ')) #outra forma de pegar dados do usuário\n",
    "\n",
    "x=n1==n2\n",
    "print('são iguais? ',x,'\\n')\n",
    "\n",
    "z=n1>n2\n",
    "print(n1, ' é maior que ',n2, '? ',z,'\\n')\n",
    "print(n1, 'é maior que',n2, '?',z,'\\n')\n",
    "print(n1,'é maior que',n2,'?',z,'\\n')\n",
    "y=n1!=n2\n",
    "print('São diferentes? '+str(y))\n",
    "\n"
   ]
  }
 ],
 "metadata": {
  "kernelspec": {
   "display_name": "Python 3",
   "language": "python",
   "name": "python3"
  },
  "language_info": {
   "codemirror_mode": {
    "name": "ipython",
    "version": 3
   },
   "file_extension": ".py",
   "mimetype": "text/x-python",
   "name": "python",
   "nbconvert_exporter": "python",
   "pygments_lexer": "ipython3",
   "version": "3.13.3"
  }
 },
 "nbformat": 4,
 "nbformat_minor": 5
}
