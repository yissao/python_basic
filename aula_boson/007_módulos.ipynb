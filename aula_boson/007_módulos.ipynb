{
 "cells": [
  {
   "cell_type": "code",
   "execution_count": null,
   "id": "dbfa7474",
   "metadata": {},
   "outputs": [],
   "source": [
    "# c:\\>py --version\n",
    "# c:\\>py -m pip list\n",
    "# c:\\>py -m pip show matplotlib ## mostra informações do pacote\n",
    "# c:\\>py -m pip uninstal pacote ## desinstala pacote\n",
    "\n",
    "#----------\n",
    "\n",
    "##import math\n",
    "##\n",
    "##print(math.sqrt(144))\n",
    "#----------\n",
    "\n",
    "##from math import sqrt, sin\n",
    "##\n",
    "### print(math.sqrt(144)) #erro NameError: name 'math' is not defined\n",
    "##print(sqrt(144))\n",
    "#----------\n",
    "\n",
    "import math as m\n",
    "\n",
    "print(m.sqrt(169))\n"
   ]
  }
 ],
 "metadata": {
  "kernelspec": {
   "display_name": "Python 3",
   "language": "python",
   "name": "python3"
  },
  "language_info": {
   "codemirror_mode": {
    "name": "ipython",
    "version": 3
   },
   "file_extension": ".py",
   "mimetype": "text/x-python",
   "name": "python",
   "nbconvert_exporter": "python",
   "pygments_lexer": "ipython3",
   "version": "3.13.3"
  }
 },
 "nbformat": 4,
 "nbformat_minor": 5
}
