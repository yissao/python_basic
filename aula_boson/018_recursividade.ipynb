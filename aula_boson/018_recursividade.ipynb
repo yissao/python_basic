{
 "cells": [
  {
   "cell_type": "code",
   "execution_count": null,
   "id": "dbfa7474",
   "metadata": {},
   "outputs": [],
   "source": [
    "def fatorial(n):\n",
    "    if n == 1 or n==0:\n",
    "        return 1\n",
    "    else:\n",
    "        return n*fatorial(n-1)\n",
    "\n",
    "if __name__ == '__main__':\n",
    "    x = int(input('Digite um numero positivo: '))\n",
    "    try:\n",
    "        res = fatorial(x)\n",
    "    except RecursionError:\n",
    "        print(f'O número é grande demais ou negativo. ')\n",
    "    else:\n",
    "        print(f'O fatorial de {x} é {res}')\n",
    "    finally:\n",
    "        print('acabou')\n",
    "    \n",
    "            \n"
   ]
  }
 ],
 "metadata": {
  "kernelspec": {
   "display_name": "Python 3",
   "language": "python",
   "name": "python3"
  },
  "language_info": {
   "codemirror_mode": {
    "name": "ipython",
    "version": 3
   },
   "file_extension": ".py",
   "mimetype": "text/x-python",
   "name": "python",
   "nbconvert_exporter": "python",
   "pygments_lexer": "ipython3",
   "version": "3.13.3"
  }
 },
 "nbformat": 4,
 "nbformat_minor": 5
}
