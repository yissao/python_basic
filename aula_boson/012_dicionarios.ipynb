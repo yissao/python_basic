{
 "cells": [
  {
   "cell_type": "code",
   "execution_count": null,
   "id": "dbfa7474",
   "metadata": {},
   "outputs": [],
   "source": [
    "elemento = {\n",
    "    'Z':3,\n",
    "    'nome':'Lítio',\n",
    "    'grupo':'Metais Alcalinos',\n",
    "    'densidade':0.534\n",
    "    #'densidade':0,534 #erro sintaxe separador de decimal é ponto.\n",
    "}\n",
    "\n",
    "# print(f'Elemento: {elemento['nome']}' ) #erro sintaxe confundo se fica tudo com aspas simples\n",
    "# print(f'Elemento: '{elemento['nome']}' ) #erro sintaxe, dentro da fstring fica o valor com chave\n",
    "print(f'Elemento: {elemento[\"nome\"]}' )\n",
    "print(f'Tamanho do dicionário: {len(elemento)} elementos.')\n",
    "\n",
    "#atualizar uma entrada\n",
    "elemento['grupo']='Alacalinos'\n",
    "print(elemento)\n",
    "\n",
    "#adicionar uma entrada\n",
    "#    elemento[período]=1 #NameError: name 'período' is not defined\n",
    "elemento['período']=1\n",
    "print(elemento)\n",
    "\n",
    "#exclusão de itens\n",
    "##del elemento['período']\n",
    "##print(elemento)\n",
    "##elemento.clear()\n",
    "##print(elemento)\n",
    "##del elemento\n",
    "# print(elemento)#NameError: name 'elemento' is not defined\n",
    "# porque foi apagado o dicionario\n",
    "\n",
    "print(elemento.items())\n",
    "for i in elemento.items():\n",
    "    print(i)\n",
    "\n",
    "print(elemento.keys())\n",
    "for i in elemento.keys():\n",
    "    print(i)\n",
    "\n",
    "\n",
    "print(elemento.values())\n",
    "for i in elemento.values():\n",
    "    print(i)\n",
    "\n",
    "for i,j in elemento.items():\n",
    "    print(f'{i}: {j}')\n",
    "\n"
   ]
  }
 ],
 "metadata": {
  "kernelspec": {
   "display_name": "Python 3",
   "language": "python",
   "name": "python3"
  },
  "language_info": {
   "codemirror_mode": {
    "name": "ipython",
    "version": 3
   },
   "file_extension": ".py",
   "mimetype": "text/x-python",
   "name": "python",
   "nbconvert_exporter": "python",
   "pygments_lexer": "ipython3",
   "version": "3.13.3"
  }
 },
 "nbformat": 4,
 "nbformat_minor": 5
}
