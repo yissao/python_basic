{
 "cells": [
  {
   "cell_type": "code",
   "execution_count": null,
   "id": "dbfa7474",
   "metadata": {},
   "outputs": [],
   "source": [
    "##from math import sqrt\n",
    "##\n",
    "##if __name__=='__main__':\n",
    "##    try:\n",
    "##        num=int(input('digite um número positivo: '))\n",
    "##        if num<0:\n",
    "##            raise ArithmeticError\n",
    "##    except ArithmeticError:\n",
    "##        print(f'Foi forncido um número negativo.')\n",
    "##\n",
    "##    else:\n",
    "##        print(f'a raiz quadrada de {num} é {sqrt(num)}')\n",
    "##\n",
    "##    finally:\n",
    "##        print(f'fim')\n",
    "#-----------------------\n",
    "\n",
    "from math import sqrt\n",
    "\n",
    "class NumeroNegativoIssaoError(Exception):\n",
    "    def __init__(self):\n",
    "        pass #não faz nada, pass adiante\n",
    "    \n",
    "if __name__=='__main__':\n",
    "    try:\n",
    "        num=int(input('digite um número positivo: '))\n",
    "        if num<0:\n",
    "            raise NumeroNegativoIssaoError\n",
    "    except NumeroNegativoIssaoError:\n",
    "        print(f'Foi fornecido um número negativo.')\n",
    "\n",
    "    else:\n",
    "        print(f'a raiz quadrada de {num} é {sqrt(num)}')\n",
    "\n",
    "    finally:\n",
    "        print(f'fim')\n",
    "#-----------------------\n"
   ]
  }
 ],
 "metadata": {
  "kernelspec": {
   "display_name": "Python 3",
   "language": "python",
   "name": "python3"
  },
  "language_info": {
   "codemirror_mode": {
    "name": "ipython",
    "version": 3
   },
   "file_extension": ".py",
   "mimetype": "text/x-python",
   "name": "python",
   "nbconvert_exporter": "python",
   "pygments_lexer": "ipython3",
   "version": "3.13.3"
  }
 },
 "nbformat": 4,
 "nbformat_minor": 5
}
