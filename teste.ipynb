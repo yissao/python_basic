{
 "cells": [
  {
   "cell_type": "markdown",
   "id": "c71c125a",
   "metadata": {},
   "source": [
    "https://www.youtube.com/watch?v=192HgwRgOYE&t=3257s\n",
    "\n",
    ".\\.venv\\Scripts\\activate.ps1\n",
    "cd .\\python_basic\\\n",
    "git init\n",
    "    Reinitialized existing Git repository in C:/Issao/GitHub/venv_02_git/python_basic/.git/\n",
    "\n",
    "git status\n",
    "    On branch main\n",
    "        Your branch is up to date with 'origin/main'.\n",
    "\n",
    "        Untracked files:\n",
    "        (use \"git add <file>...\" to include in what will be committed)\n",
    "                teste.ipynb\n",
    "\n",
    "        nothing added to commit but untracked files present (use \"git add\" to track)\n",
    "\n",
    "git add .\\teste.ipynb\n",
    "\n",
    "git status\n",
    "    On branch main\n",
    "    Your branch is up to date with 'origin/main'.\n",
    "\n",
    "    Changes to be committed:\n",
    "    (use \"git restore --staged <file>...\" to unstage)\n",
    "            new file:   teste.ipynb\n",
    "\n",
    "git config --global user.name Issao Yamazaki\n",
    "git config --global user.email yissao@gmail.com\n",
    "\n",
    "git commit -m \"adicao arquivo tutorial git\"\n",
    "\n",
    "git branch nova-branch-tutorial-git\n",
    "git checkout a-branch-tutorial-git\n",
    "\n",
    "git add .\n",
    "git commit -m \"nova branch\"\n",
    "git log # 'q' para sair\n",
    "git push origin nova-branch-tutorial-git\n",
    "git push origin main"
   ]
  }
 ],
 "metadata": {
  "kernelspec": {
   "display_name": ".venv",
   "language": "python",
   "name": "python3"
  },
  "language_info": {
   "name": "python",
   "version": "3.13.3"
  }
 },
 "nbformat": 4,
 "nbformat_minor": 5
}
