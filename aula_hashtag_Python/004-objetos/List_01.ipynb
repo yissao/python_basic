{
 "cells": [
  {
   "cell_type": "markdown",
   "id": "833b2c13",
   "metadata": {},
   "source": [
    "# 4.1.1. Quick example\n",
    "In python, lists are part of the standard language. You will find them everywhere. Like almost everything in Python, lists are objects. There are many methods associated to them. Some of which are presented here below."
   ]
  },
  {
   "cell_type": "code",
   "execution_count": 2,
   "id": "2a2b192a",
   "metadata": {},
   "outputs": [
    {
     "data": {
      "text/plain": [
       "1"
      ]
     },
     "execution_count": 2,
     "metadata": {},
     "output_type": "execute_result"
    }
   ],
   "source": [
    "l = [1, 2, 3]\n",
    "l[0]"
   ]
  },
  {
   "cell_type": "code",
   "execution_count": 4,
   "id": "fc825e4a",
   "metadata": {},
   "outputs": [
    {
     "data": {
      "text/plain": [
       "[1, 2, 3, 1, 1]"
      ]
     },
     "execution_count": 4,
     "metadata": {},
     "output_type": "execute_result"
    }
   ],
   "source": [
    "l.append(1)\n",
    "l"
   ]
  },
  {
   "cell_type": "markdown",
   "id": "c7449f26",
   "metadata": {},
   "source": [
    "# 4.1.2. Difference between append() and extend()\n",
    "Lists have several methods amongst which the append() and extend() methods. The former appends an object to the end of the list (e.g., another list) while the later appends each element of the iterable object (e.g., anothee list) to the end of the list.\n",
    "\n",
    "For example, we can append an object (here the character ‘c’) to the end of a simple list as follows:"
   ]
  },
  {
   "cell_type": "code",
   "execution_count": 6,
   "id": "c687c400",
   "metadata": {},
   "outputs": [
    {
     "data": {
      "text/plain": [
       "['a', 'b', 'c']"
      ]
     },
     "execution_count": 6,
     "metadata": {},
     "output_type": "execute_result"
    }
   ],
   "source": [
    "stack = ['a','b']\n",
    "stack.append('c')\n",
    "stack"
   ]
  },
  {
   "cell_type": "markdown",
   "id": "2b879a4a",
   "metadata": {},
   "source": [
    "However, if we want to append several objects contained in a list, the result as expected (or not...) is:"
   ]
  },
  {
   "cell_type": "code",
   "execution_count": 7,
   "id": "c9c860d8",
   "metadata": {},
   "outputs": [
    {
     "data": {
      "text/plain": [
       "['a', 'b', 'c', ['d', 'e', 'f']]"
      ]
     },
     "execution_count": 7,
     "metadata": {},
     "output_type": "execute_result"
    }
   ],
   "source": [
    "stack.append(['d', 'e', 'f'])\n",
    "stack"
   ]
  },
  {
   "cell_type": "markdown",
   "id": "c1cbcefd",
   "metadata": {},
   "source": [
    "The object ['d', 'e', 'f'] has been appended to the exiistng list. However, it happens that sometimes what we want is to append the elements one by one of a given list rather the list itself. You can do that manually of course, but a better solution is to use the extend() method as follows:"
   ]
  },
  {
   "cell_type": "code",
   "execution_count": 9,
   "id": "8e752bfe",
   "metadata": {},
   "outputs": [
    {
     "data": {
      "text/plain": [
       "['a', 'b', 'c', 'd', 'e', 'f']"
      ]
     },
     "execution_count": 9,
     "metadata": {},
     "output_type": "execute_result"
    }
   ],
   "source": [
    "stack = ['a', 'b', 'c']\n",
    "stack.extend(['d', 'e','f'])\n",
    "stack"
   ]
  },
  {
   "cell_type": "markdown",
   "id": "838a5b22",
   "metadata": {},
   "source": [
    "# 4.1.3. Other list methods\n",
    "## 4.1.3.1. index\n",
    "The index() methods searches for an element in a list. For instance:"
   ]
  },
  {
   "cell_type": "code",
   "execution_count": 10,
   "id": "04c76353",
   "metadata": {},
   "outputs": [
    {
     "data": {
      "text/plain": [
       "1"
      ]
     },
     "execution_count": 10,
     "metadata": {},
     "output_type": "execute_result"
    }
   ],
   "source": [
    "my_list = ['a','b','c','b', 'a']\n",
    "my_list.index('b')"
   ]
  },
  {
   "cell_type": "markdown",
   "id": "af75009c",
   "metadata": {},
   "source": [
    "It returns the index of the first and only occurence of ‘b’. If you want to specify a range of valid index, you can indicate the start and stop indices:\n",
    "# 📢📢📢\n",
    "<div class=\"alert-danger\">\n",
    "📢Warning\n",
    "if the element is not found, an error is raised\n",
    "</div>\n",
    "\n"
   ]
  },
  {
   "cell_type": "code",
   "execution_count": 11,
   "id": "5e2e30cc",
   "metadata": {},
   "outputs": [
    {
     "data": {
      "text/plain": [
       "3"
      ]
     },
     "execution_count": 11,
     "metadata": {},
     "output_type": "execute_result"
    }
   ],
   "source": [
    "my_list = ['a','b','c','b', 'a']\n",
    "my_list.index('b', 2)"
   ]
  },
  {
   "cell_type": "markdown",
   "id": "4fedde9a",
   "metadata": {},
   "source": [
    "## 4.1.3.2. insert\n",
    "You can remove element but also insert element wherever you want in a list:\n",
    "```python\n",
    "my_list.insert(2, 'a')\n",
    "my_list\n",
    "['b', 'c', 'a', 'b']\n",
    "```\n",
    "The insert() methods insert an object before the index provided."
   ]
  },
  {
   "cell_type": "code",
   "execution_count": 12,
   "id": "20b08e25",
   "metadata": {},
   "outputs": [
    {
     "data": {
      "text/plain": [
       "['a', 'b', 'a', 'c', 'b', 'a']"
      ]
     },
     "execution_count": 12,
     "metadata": {},
     "output_type": "execute_result"
    }
   ],
   "source": [
    "my_list.insert(2, 'a')\n",
    "my_list"
   ]
  },
  {
   "cell_type": "markdown",
   "id": "4492a439",
   "metadata": {},
   "source": [
    "## 4.1.3.3. remove\n",
    "Similarly, you can remove the first occurence of an element as follows:\n",
    "```python\n",
    "my_list.remove('a')\n",
    "my_list\n",
    "['b', 'c', 'b', 'a']\n",
    "```\n",
    "## 4.1.3.4. pop\n",
    "Or remove the last element of a list by using:\n",
    "```python\n",
    "my_list.pop()\n",
    "'a'\n",
    "my_list\n",
    "['b', 'c', 'b']\n",
    "```\n",
    "which also returns the value that has been removed."
   ]
  },
  {
   "cell_type": "code",
   "execution_count": 14,
   "id": "d819bdb7",
   "metadata": {},
   "outputs": [
    {
     "data": {
      "text/plain": [
       "['b', 'a', 'c', 'b']"
      ]
     },
     "execution_count": 14,
     "metadata": {},
     "output_type": "execute_result"
    }
   ],
   "source": [
    "my_list.pop()\n",
    "my_list"
   ]
  },
  {
   "cell_type": "markdown",
   "id": "5ff6cd54",
   "metadata": {},
   "source": [
    "## 4.1.3.5. count\n",
    "You can count the number of element of a kind:\n",
    "\n",
    "```Python\n",
    "my_list.count('b')\n",
    "2\n",
    "```\n",
    "4.1.3.6. sort\n",
    "There is a sort() method that performs an in-place sorting:\n",
    "\n",
    "```python\n",
    "my_list.sort()\n",
    "my_list\n",
    "['a', 'b', 'b', 'c']\n",
    "```\n",
    "Here, it is quite simple since the elements are all characters. For standard types, the sorting works well. Imagine now that you have some non-standard types. You can overwrite the function used to perform the comparison as the first argument of the sort() method.\n",
    "\n",
    "There is also the possiblity to sort in the reverse order:\n",
    "\n",
    "```python\n",
    "my_list.sort(reverse=True)\n",
    "my_list\n",
    "['c', 'b', 'b', 'a']\n",
    "```\n",
    "## 4.1.3.7. reverse\n",
    "Finally, you can reverse the element in-place:\n",
    "\n",
    "```python\n",
    "my_list = ['a', 'c' ,'b']\n",
    "my_list.reverse()\n",
    "my_list\n",
    "['b', 'c', 'a']\n",
    "```"
   ]
  },
  {
   "cell_type": "code",
   "execution_count": 17,
   "id": "fe894d89",
   "metadata": {},
   "outputs": [
    {
     "data": {
      "text/plain": [
       "['c', 'b', 'b', 'a']"
      ]
     },
     "execution_count": 17,
     "metadata": {},
     "output_type": "execute_result"
    }
   ],
   "source": [
    "my_list.sort(reverse=True)\n",
    "my_list"
   ]
  },
  {
   "cell_type": "markdown",
   "id": "7e1c848d",
   "metadata": {},
   "source": [
    "# 4.1.4. Operators\n",
    "The + operator can be used to extend a list:\n",
    "\n",
    "```python\n",
    "my_list = [1]\n",
    "my_list += [2]\n",
    "my_list\n",
    "[1, 2]\n",
    "my_list += [3, 4]\n",
    "my_list\n",
    "[1, 2, 3, 4]\n",
    "```\n",
    "The * operator ease the creation of list with similar values\n",
    "```python\n",
    "my_list = [1, 2]\n",
    "my_list = my_list * 2\n",
    "my_list\n",
    "[1, 2, 1, 2]\n",
    "```"
   ]
  },
  {
   "cell_type": "code",
   "execution_count": null,
   "id": "e4256d32",
   "metadata": {},
   "outputs": [],
   "source": []
  },
  {
   "cell_type": "markdown",
   "id": "fd8758bc",
   "metadata": {},
   "source": [
    "# 4.1.5. Slicing\n",
    "Slicing uses the symbol : to access to part of a list:\n",
    "\n",
    "```Python\n",
    "list[first index:last index:step]\n",
    "list[:]\n",
    "a = [0, 1, 2, 3, 4, 5]\n",
    "[0, 1, 2, 3, 4, 5]\n",
    "a[2:]\n",
    "[2, 3, 4, 5]\n",
    "a[:2]\n",
    "[0, 1]\n",
    "a[2:-1]\n",
    "[2, 3, 4]\n",
    "```\n",
    "By default the first index is 0, the last index is the last one..., and the step is 1. The step is optional. So the following slicing are equivalent:\n",
    "```Python\n",
    "a = [1, 2, 3, 4, 5, 6, 7, 8]\n",
    "a[:]\n",
    "[1, 2, 3, 4, 5, 6, 7, 8]\n",
    "a[::1]\n",
    "[1, 2, 3, 4, 5, 6, 7, 8]\n",
    "a[0::1]\n",
    "[1, 2, 3, 4, 5, 6, 7, 8]\n",
    "```"
   ]
  },
  {
   "cell_type": "code",
   "execution_count": 30,
   "id": "14bdf15b",
   "metadata": {},
   "outputs": [
    {
     "data": {
      "text/plain": [
       "[2, 3, 4]"
      ]
     },
     "execution_count": 30,
     "metadata": {},
     "output_type": "execute_result"
    }
   ],
   "source": [
    "a = [0, 1, 2, 3, 4, 5]\n",
    "a\n",
    "a[2:]\n",
    "a[:2]\n",
    "a[2:-1]\n"
   ]
  },
  {
   "cell_type": "markdown",
   "id": "aa674d12",
   "metadata": {},
   "source": [
    "# 4.1.6. List comprehension\n",
    "Traditionally, a piece of code that loops over a sequence could be written as follows:\n",
    "\n",
    "```Python\n",
    "evens = []\n",
    "for i in range(10):\n",
    "     if i % 2 == 0:\n",
    "         evens.append(i)\n",
    "evens\n",
    "[0, 2, 4, 6, 8]\n",
    "```\n",
    "This may work, but it actually makes things slower for Python because the interpreter works on each loop to determine what part of the sequence has to be changed.\n",
    "\n",
    "A list comprehension is the correct answer:\n",
    "\n",
    "```Python\n",
    "[i for i in range(10) if i % 2 == 0]\n",
    "[0, 2, 4, 6, 8]\n",
    "```\n",
    "Besides the fact that it is more efficient, it is also shorter and involves fewer elements."
   ]
  },
  {
   "cell_type": "code",
   "execution_count": 32,
   "id": "b1c69efa",
   "metadata": {},
   "outputs": [
    {
     "data": {
      "text/plain": [
       "[0, 2, 4, 6, 8]"
      ]
     },
     "execution_count": 32,
     "metadata": {},
     "output_type": "execute_result"
    }
   ],
   "source": [
    "[i for i in range(10) if i % 2 == 0]"
   ]
  },
  {
   "cell_type": "markdown",
   "id": "17f226e7",
   "metadata": {},
   "source": [
    "# 4.1.7. Filtering Lists\n",
    "```Python\n",
    " li = [1, 2]\n",
    " [elem*2 for elem in li if elem>1]\n",
    "[4]\n",
    "```\n",
    "# 4.1.8. Lists as Stacks\n",
    "The Python documentation gives an example of how to use lists as stacks, that is a last-in, first-out data structures (LIFO).\n",
    "\n",
    "An item can be added to a list by using the append() method. The last item can be removed from the list by using the pop() method without passing any index to it.\n",
    "```Python\n",
    " stack = ['a','b','c','d']\n",
    " stack.append('e')\n",
    " stack.append('f')\n",
    " stack\n",
    "['a', 'b', 'c', 'd', 'e', 'f']\n",
    " stack.pop()\n",
    "'f'\n",
    " stack\n",
    "['a, 'b', 'c', 'd', 'e']\n",
    "```\n",
    "# 4.1.9. Lists as Queues\n",
    "Another usage of list, again presented in Python documentation is to use lists as queues, that is a first in - first out (FIFO).\n",
    "```Python\n",
    " queue = ['a', 'b', 'c', 'd']\n",
    " queue.append('e')\n",
    " queue.append('f')\n",
    " queue\n",
    "['a', 'b', 'c', 'd', 'e', 'f']\n",
    " queue.pop(0)\n",
    "'a'\n",
    "```\n",
    "# 4.1.10. How to copy a list\n",
    "There are three ways to copy a list:\n",
    "```Python\n",
    " l2 = list(l)\n",
    " l2 = l[:]\n",
    " import copy\n",
    " l2 = copy.copy(l)\n",
    "```\n",
    "# 📢📢📢Warning\n",
    "<div class=\"alert-danger\">\n",
    "Don’t do l2 = l, which is a reference, not a copy.\n",
    "</div>\n",
    "\n",
    "The preceding techniques for copying a list create shallow copies. IT means that nested objects will not be copied. Consider this example:\n",
    "\n",
    "```Python\n",
    " a = [1, 2, [3, 4]]\n",
    " b = a[:]\n",
    " a[2][0] = 10\n",
    " a\n",
    "[1, 2, [10, 4]]\n",
    " b\n",
    "[1, 2, [10, 4]]\n",
    "```\n",
    "To get around this problem, you must perform a deep copy:\n",
    "```Python\n",
    " import copy\n",
    " a = [1, 2, [3, 4]]\n",
    " b = copy.deepcopy(a)\n",
    " a[2][0] = 10\n",
    " a\n",
    "[1, 2, [10, 4]]\n",
    " b\n",
    "[1, 2, [3, 4]]\n",
    "```\n",
    "## 4.1.10.1. Inserting items into a sorted list\n",
    "The bisect module provides tools to manipulate sorted lists.\n",
    "```Python\n",
    " x = [4, 1]\n",
    " x.sort()\n",
    " import bisect\n",
    " bisect.insort(x, 2)\n",
    " x\n",
    "[1, 2, 4]\n",
    "```\n",
    "To know where the index where the value would have been inserted, you could have use:\n",
    "```Python\n",
    " x = [4, 1]\n",
    " x.sort()\n",
    " import bisect\n",
    " bisect.bisect(x, 2)\n",
    "2\n",
    "```"
   ]
  },
  {
   "cell_type": "code",
   "execution_count": null,
   "id": "3afed37f",
   "metadata": {},
   "outputs": [],
   "source": []
  }
 ],
 "metadata": {
  "kernelspec": {
   "display_name": "Python 3",
   "language": "python",
   "name": "python3"
  },
  "language_info": {
   "codemirror_mode": {
    "name": "ipython",
    "version": 3
   },
   "file_extension": ".py",
   "mimetype": "text/x-python",
   "name": "python",
   "nbconvert_exporter": "python",
   "pygments_lexer": "ipython3",
   "version": "3.8.8"
  }
 },
 "nbformat": 4,
 "nbformat_minor": 5
}
