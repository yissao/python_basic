{
 "cells": [
  {
   "cell_type": "markdown",
   "metadata": {},
   "source": [
    "# Exercícios\n",
    "\n",
    "## 1. Tirando informações de listas e dicionários\n",
    "\n",
    "Digamos que você está analisando as vendas de produtos de uma empresa de varejo.\n",
    "\n",
    "Essa lista tem: (produto, vendas de 2019, vendas de 2020) para cada produto.\n",
    "\n",
    "Crie uma lista com as vendas de 2019."
   ]
  },
  {
   "cell_type": "code",
   "execution_count": 1,
   "metadata": {},
   "outputs": [],
   "source": [
    "vendas_produtos = [('iphone', 558147, 951642), ('galaxy', 712350, 244295), ('ipad', 573823, 26964), ('tv', 405252, 787604), ('máquina de café', 718654, 867660), ('kindle', 531580, 78830), ('geladeira', 973139, 710331), ('adega', 892292, 646016), ('notebook dell', 422760, 694913), ('notebook hp', 154753, 539704), ('notebook asus', 887061, 324831), ('microsoft surface', 438508, 667179), ('webcam', 237467, 295633), ('caixa de som', 489705, 725316), ('microfone', 328311, 644622), ('câmera canon', 591120, 994303)]\n"
   ]
  },
  {
   "cell_type": "code",
   "execution_count": 4,
   "metadata": {},
   "outputs": [
    {
     "name": "stdout",
     "output_type": "stream",
     "text": [
      "973139\n"
     ]
    }
   ],
   "source": [
    "lista2019 = []\n",
    "for x, y, z in vendas_produtos:\n",
    "    lista2019.append(y)\n",
    "print(max(lista2019))"
   ]
  },
  {
   "cell_type": "code",
   "execution_count": 5,
   "metadata": {},
   "outputs": [
    {
     "name": "stdout",
     "output_type": "stream",
     "text": [
      "973139\n"
     ]
    }
   ],
   "source": [
    "l2019 = [v2019 for produto, v2019, v2020 in vendas_produtos]\n",
    "print(max(l2019))"
   ]
  },
  {
   "cell_type": "markdown",
   "metadata": {},
   "source": [
    "- Agora, qual o maior valor de vendas de 2019?"
   ]
  },
  {
   "cell_type": "code",
   "execution_count": null,
   "metadata": {},
   "outputs": [],
   "source": []
  },
  {
   "cell_type": "markdown",
   "metadata": {},
   "source": [
    "- E se eu quisesse descobrir o produto que mais vendeu em 2019?\n",
    "Temos 2 formas de fazer, refazendo o list comprehension ou consultando a lista original"
   ]
  },
  {
   "cell_type": "code",
   "execution_count": 9,
   "metadata": {},
   "outputs": [
    {
     "name": "stdout",
     "output_type": "stream",
     "text": [
      "A maior venda de 2019 foi o geladeira com 973139 unidades\n"
     ]
    }
   ],
   "source": [
    "l2019 = [(v2019, produto) for produto, v2019, v2020 in vendas_produtos]\n",
    "venda, produto = max(l2019)\n",
    "print(f'A maior venda de 2019 foi o {produto} com {venda} unidades')"
   ]
  }
 ],
 "metadata": {
  "kernelspec": {
   "display_name": "Python 3",
   "language": "python",
   "name": "python3"
  },
  "language_info": {
   "codemirror_mode": {
    "name": "ipython",
    "version": 3
   },
   "file_extension": ".py",
   "mimetype": "text/x-python",
   "name": "python",
   "nbconvert_exporter": "python",
   "pygments_lexer": "ipython3",
   "version": "3.8.8"
  }
 },
 "nbformat": 4,
 "nbformat_minor": 4
}
