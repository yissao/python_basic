{
 "cells": [
  {
   "cell_type": "markdown",
   "id": "469760c2",
   "metadata": {},
   "source": [
    "# 4.6. Frozensets\n",
    "Contents\n",
    "\n",
    "Frozensets\n",
    ">Quick Example<br>\n",
    ">Set of Sets<br>\n",
    ">Using set as key in a dictionary<br>\n",
    ">Methods<br>\n",
    "\n",
    "Sets are mutable, and may therefore not be used, for example, as keys in dictionaries.\n",
    "\n",
    "Another problem is that sets themselves may only contain immutable (hashable) values, and thus may not contain other sets.\n",
    "\n",
    "Because sets of sets often occur in practice, there is the frozenset type, which represents immutable (and, therefore, hashable) sets.\n",
    "\n",
    "## 4.6.1. Quick Example\n",
    "```Python\n",
    "a = frozenset([1, 2, 3])\n",
    "b = frozenset([2, 3, 4])\n",
    "a.union(b)\n",
    "frozenset([1, 2, 3, 4])\n",
    "```\n",
    "## 4.6.2. Set of Sets\n",
    "Sets may only contain immutable (hashable) values, and thus may not contain other sets, in which case frozensets can be useful. Consider the following example:\n",
    "```Python\n",
    "a = set([1, 2, 3])\n",
    "b = set([2, 3, 4])\n",
    "a.add(b)\n",
    "a.add(frozenset(b))\n",
    "```\n",
    "## 4.6.3. Using set as key in a dictionary\n",
    "If you want to use a set as a key dictionary, you will need frozenset:\n",
    "```Python\n",
    "fa = {frozenset([1,2]): 1}\n",
    "fa[ frozenset([1,2]) ]\n",
    "1\n",
    "```\n",
    "## 4.6.4. Methods\n",
    "frozensets have less methods than sets.\n",
    "\n",
    "There are some operators similar to sets (```intersection(), union(), symmetric_difference(), difference(), issubset(), isdisjoint(), issuperset()```) and a ```copy()``` method."
   ]
  }
 ],
 "metadata": {
  "kernelspec": {
   "display_name": "Python 3",
   "language": "python",
   "name": "python3"
  },
  "language_info": {
   "codemirror_mode": {
    "name": "ipython",
    "version": 3
   },
   "file_extension": ".py",
   "mimetype": "text/x-python",
   "name": "python",
   "nbconvert_exporter": "python",
   "pygments_lexer": "ipython3",
   "version": "3.8.8"
  }
 },
 "nbformat": 4,
 "nbformat_minor": 5
}
