{
 "cells": [
  {
   "cell_type": "markdown",
   "metadata": {},
   "source": [
    "# Integração Python e SQL\n",
    "\n",
    "### Objetivo\n",
    "\n",
    "A integração do Python com o SQL permite que execute comandos SQL diretamente pelo Python no seu banco de dados. Isso vai permitir a gente pegar consultas e já importar elas para dentro de uma análise no Python automaticamente.\n",
    "\n",
    "### O que vamos precisar\n",
    "\n",
    "- Para aprender, vamos usar o SQL Server, umas das ferramentas de gerenciamento de banco de dados mais usadas no Mercado. (Vamos instalar gratuitamente)\n",
    "- Um banco de dados para testar -> usaremos o Contoso, disponibilizado pela Microsoft gratuitamente\n",
    "\n",
    "### No Python, o que vamos usar\n",
    "\n",
    "- Biblioteca pyodbc -> pode ser usada com a mesma estrutura para diversos bancos de dados, como SQL Server, MySQL, Oracle, Access, IBM, etc.\n",
    "\n",
    "### Obs Importante\n",
    "\n",
    "- Isso não vai ser um curso de SQL, portanto não vamos trabalhar extensivamente os comandos SQL, usaremos apenas alguns para mostrar como funciona a integração das ferramentas"
   ]
  }
 ],
 "metadata": {
  "kernelspec": {
   "display_name": "Python 3",
   "language": "python",
   "name": "python3"
  },
  "language_info": {
   "codemirror_mode": {
    "name": "ipython",
    "version": 3
   },
   "file_extension": ".py",
   "mimetype": "text/x-python",
   "name": "python",
   "nbconvert_exporter": "python",
   "pygments_lexer": "ipython3",
   "version": "3.8.3"
  }
 },
 "nbformat": 4,
 "nbformat_minor": 4
}
