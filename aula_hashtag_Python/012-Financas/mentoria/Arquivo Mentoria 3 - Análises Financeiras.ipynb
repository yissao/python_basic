{
 "cells": [
  {
   "cell_type": "markdown",
   "metadata": {},
   "source": [
    "# Análise Financeira com Python\n",
    "\n",
    "### Objetivo:\n",
    "\n",
    "Vamos dividir essa mentoria em 2 etapas:\n",
    "\n",
    "Etapa 1 - Usar o Python para puxar dados da Web de cotação de qualquer ação e analisar o resultado de uma carteira\n",
    "\n",
    "Etapa 2 - Puxar indicadores de empresas diferentes e fazer a comparação entre elas para escolhar \"qual a melhor empresa\"\n",
    "\n",
    "### Disclamer Importante\n",
    "\n",
    "Não sou analista, influencer, agente autônomo, sábio ou nada de finanças ou ações. Temos 1 objetivo aqui e apenas 1: aprender como usar o Python para fazer o que a gente quiser.\n",
    "\n",
    "Então não se preocupe com \"erros teóricos\" ou ainda com o resultado de qualquer tipo de análise. O nosso objetivo aqui é treinar Python"
   ]
  },
  {
   "cell_type": "markdown",
   "metadata": {},
   "source": [
    "### Parte 1 - Carteira de Investimentos\n",
    "\n",
    "- Vamos pegar uma carteira teórica completa e calcular o rendimento dela ao longo de 2020 e comparar com os principais indicadores (CDI, IBOV, IPCA). No caso vamos usar o IBOV, mas o procedimento para os outros indicadores é semelhante\n",
    "\n",
    "- Carteira: R$100.000, divididos da seguinte maneira em 01/01/2020:\n",
    "- 30% Ações Brasileiras - Arquivo Carteira\n",
    "- 10% SMAL11 - Arquivo Carteira\n",
    "- 10% FII - Arquivo Carteira\n",
    "- 50% Tesouro Selic"
   ]
  },
  {
   "cell_type": "code",
   "execution_count": null,
   "metadata": {},
   "outputs": [],
   "source": []
  },
  {
   "cell_type": "markdown",
   "metadata": {},
   "source": [
    "#### Pegando as Cotações ao Longo de 2020"
   ]
  },
  {
   "cell_type": "markdown",
   "metadata": {},
   "source": [
    "- IBOV"
   ]
  },
  {
   "cell_type": "code",
   "execution_count": null,
   "metadata": {},
   "outputs": [],
   "source": []
  },
  {
   "cell_type": "markdown",
   "metadata": {},
   "source": [
    "- Da nossa carteira"
   ]
  },
  {
   "cell_type": "code",
   "execution_count": null,
   "metadata": {},
   "outputs": [],
   "source": []
  },
  {
   "cell_type": "markdown",
   "metadata": {},
   "source": [
    "- Do Tesouro Selic:"
   ]
  },
  {
   "cell_type": "code",
   "execution_count": null,
   "metadata": {},
   "outputs": [],
   "source": []
  },
  {
   "cell_type": "markdown",
   "metadata": {},
   "source": [
    "- Juntar o tesouro selic na nossa carteira"
   ]
  },
  {
   "cell_type": "code",
   "execution_count": null,
   "metadata": {},
   "outputs": [],
   "source": []
  },
  {
   "cell_type": "markdown",
   "metadata": {},
   "source": [
    "- Calcular o valor investido"
   ]
  },
  {
   "cell_type": "code",
   "execution_count": null,
   "metadata": {},
   "outputs": [],
   "source": []
  },
  {
   "cell_type": "markdown",
   "metadata": {},
   "source": [
    "### Parte 2 - Comparativo entre Ativos\n",
    "\n",
    "Créditos: https://simply-python.com/2019/01/16/retrieving-stock-statistics-from-yahoo-finance-using-python/"
   ]
  },
  {
   "cell_type": "code",
   "execution_count": null,
   "metadata": {},
   "outputs": [],
   "source": [
    "tgt_website = r'https://sg.finance.yahoo.com/quote/PETR4.SA/key-statistics?p=PETR4.SA'\n",
    " \n",
    "def get_key_stats(tgt_website, ticker):\n",
    "    df_list = pd.read_html(tgt_website)\n",
    "    result_df = df_list[0]\n",
    "    for df in df_list[1:]:\n",
    "        result_df = result_df.append(df)\n",
    "    result_df = result_df.rename(columns={1: ticker})\n",
    "    return result_df.set_index(0).T\n",
    "    \n",
    "df_petr4 = get_key_stats(tgt_website, 'PETR4')\n",
    "display(df_petr4)"
   ]
  },
  {
   "cell_type": "markdown",
   "metadata": {},
   "source": [
    "- Comparando as ações de:\n",
    "    1. Magazine Luiza (MGLU3)\n",
    "    2. Lojas Americanas (LAME4)\n",
    "    3. Via Varejo (VVAR3)"
   ]
  },
  {
   "cell_type": "code",
   "execution_count": null,
   "metadata": {},
   "outputs": [],
   "source": []
  },
  {
   "cell_type": "markdown",
   "metadata": {},
   "source": [
    "#### Price/sales (ttm)"
   ]
  },
  {
   "cell_type": "code",
   "execution_count": null,
   "metadata": {},
   "outputs": [],
   "source": []
  },
  {
   "cell_type": "markdown",
   "metadata": {},
   "source": [
    "#### Enterprise value / EBITDA"
   ]
  },
  {
   "cell_type": "code",
   "execution_count": null,
   "metadata": {},
   "outputs": [],
   "source": []
  }
 ],
 "metadata": {
  "kernelspec": {
   "display_name": "Python 3",
   "language": "python",
   "name": "python3"
  },
  "language_info": {
   "codemirror_mode": {
    "name": "ipython",
    "version": 3
   },
   "file_extension": ".py",
   "mimetype": "text/x-python",
   "name": "python",
   "nbconvert_exporter": "python",
   "pygments_lexer": "ipython3",
   "version": "3.8.3"
  }
 },
 "nbformat": 4,
 "nbformat_minor": 4
}
