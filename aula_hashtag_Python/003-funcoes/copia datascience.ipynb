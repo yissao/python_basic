{
 "cells": [
  {
   "cell_type": "code",
   "execution_count": 1,
   "id": "9df9e43d",
   "metadata": {},
   "outputs": [
    {
     "ename": "NameError",
     "evalue": "name 'precos_imoveis' is not defined",
     "output_type": "error",
     "traceback": [
      "\u001b[1;31m---------------------------------------------------------------------------\u001b[0m",
      "\u001b[1;31mNameError\u001b[0m                                 Traceback (most recent call last)",
      "\u001b[1;32m<ipython-input-1-ed408a76ffdb>\u001b[0m in \u001b[0;36m<module>\u001b[1;34m\u001b[0m\n\u001b[0;32m     14\u001b[0m \u001b[1;31m# -----------------\u001b[0m\u001b[1;33m\u001b[0m\u001b[1;33m\u001b[0m\u001b[1;33m\u001b[0m\u001b[0m\n\u001b[0;32m     15\u001b[0m \u001b[1;31m# separar os conjuntos de valores treino e teste (10%)\u001b[0m\u001b[1;33m\u001b[0m\u001b[1;33m\u001b[0m\u001b[1;33m\u001b[0m\u001b[0m\n\u001b[1;32m---> 16\u001b[1;33m \u001b[0my_treino\u001b[0m\u001b[1;33m,\u001b[0m \u001b[0mx_treino\u001b[0m\u001b[1;33m,\u001b[0m \u001b[0my_teste\u001b[0m\u001b[1;33m,\u001b[0m \u001b[0mx_teste\u001b[0m \u001b[1;33m=\u001b[0m \u001b[0mseparar_listas\u001b[0m\u001b[1;33m(\u001b[0m\u001b[0mprecos_imoveis\u001b[0m\u001b[1;33m,\u001b[0m \u001b[0mtamanho_imoveis\u001b[0m\u001b[1;33m)\u001b[0m\u001b[1;33m\u001b[0m\u001b[1;33m\u001b[0m\u001b[0m\n\u001b[0m\u001b[0;32m     17\u001b[0m \u001b[1;33m\u001b[0m\u001b[0m\n\u001b[0;32m     18\u001b[0m \u001b[1;31m# plotar os valores de Treino e de Teste\u001b[0m\u001b[1;33m\u001b[0m\u001b[1;33m\u001b[0m\u001b[1;33m\u001b[0m\u001b[0m\n",
      "\u001b[1;31mNameError\u001b[0m: name 'precos_imoveis' is not defined"
     ]
    }
   ],
   "source": [
    "#COPIA DE COMENTARIO, FALTA LISTA DE PRECOS E TAMANHO DE IMOVEIS\n",
    "\n",
    "def separar_listas(lista_valores, lista_atributos, fator = 0.1):\n",
    "    qtde_valores = len(lista_valores)\n",
    "    if qtde_valores == len(tamanho_imoveis):\n",
    "        i = int(qtde_valores * (1-fator))\n",
    "        lista_valores_treino = lista_valores[:i]\n",
    "        lista_valores_teste = lista_valores[i:]\n",
    "        lista_atributos_treino = lista_atributos[:i]\n",
    "        lista_atributos_teste = lista_atributos[i:]\n",
    "        return lista_valores_treino, lista_atributos_treino, lista_valores_teste, lista_atributos_teste\n",
    "    else:\n",
    "        print('Lista Valores e Lista Atributos de Tamanho diferentes, favor corrigir')\n",
    "        return\n",
    "\n",
    "# -----------------\n",
    "# separar os conjuntos de valores treino e teste (10%)\n",
    "y_treino, x_treino, y_teste, x_teste = separar_listas(precos_imoveis, tamanho_imoveis)\n",
    "\n",
    "# plotar os valores de Treino e de Teste\n",
    "# importar biblioteca MathPlotLib\n",
    "import matplotlib.pyplot as plt\n",
    "fig, ax = plt.subplots()\n",
    "print('Azul: Valores Treino')\n",
    "print('Laranja: Valores Teste')\n",
    "ax.scatter(x_treino,y_treino)\n",
    "ax.scatter(x_teste,y_teste)\n",
    "\n",
    "# verificar o Coeficiente de Pearson\n",
    "# importar da biblioteca SciPy a função Pearson\n",
    "from scipy.stats import pearsonr\n",
    "\n",
    "# calcular correlação entre variaveis de treino\n",
    "correlation, nula = pearsonr(x_treino, y_treino)\n",
    "print('Correlação entre as variaveis de Treino: {:.2%}'.format(correlation))\n",
    "\n",
    "# calcular correlação entre variaveis de teste\n",
    "correlation, nula = pearsonr(x_teste, y_teste)\n",
    "print('Correlação entre as variaveis de Teste: {:.2%}'.format(correlation))\n"
   ]
  },
  {
   "cell_type": "markdown",
   "id": "acc57410",
   "metadata": {},
   "source": [
    "Azul: Valores Treino\n",
    "Laranja: Valores Teste\n",
    "Correlação entre as variaveis de Treino: 95.76%\n",
    "Correlação entre as variaveis de Teste: 94.67%"
   ]
  }
 ],
 "metadata": {
  "kernelspec": {
   "display_name": "Python 3",
   "language": "python",
   "name": "python3"
  },
  "language_info": {
   "codemirror_mode": {
    "name": "ipython",
    "version": 3
   },
   "file_extension": ".py",
   "mimetype": "text/x-python",
   "name": "python",
   "nbconvert_exporter": "python",
   "pygments_lexer": "ipython3",
   "version": "3.8.8"
  }
 },
 "nbformat": 4,
 "nbformat_minor": 5
}
