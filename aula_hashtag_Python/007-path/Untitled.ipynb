{
 "cells": [
  {
   "cell_type": "code",
   "execution_count": 9,
   "id": "f324518b",
   "metadata": {},
   "outputs": [
    {
     "name": "stdout",
     "output_type": "stream",
     "text": [
      "ab\n",
      "aab\n",
      "aba\n",
      "abb\n",
      "abc\n",
      "abd\n",
      "bc\n",
      "bbc\n",
      "abc\n",
      "bca\n",
      "bcb\n",
      "bcc\n",
      "bcd\n",
      "cd\n",
      "ccd\n",
      "bcd\n"
     ]
    }
   ],
   "source": [
    "lista01 = ['aaa', 'aab', 'aac', 'aad', 'bba', 'bbb', 'bbc', 'bbd', 'cca', 'ccb', 'ccc', 'ccd', 'aba', 'abb','abc','abd','bca','bcb','bcc','bcd']\n",
    "lista02 = ['ab', 'bc', 'cd']\n",
    "for l2 in lista02:\n",
    "    print (l2)\n",
    "    for l1 in lista01:\n",
    "        if l2 in l1:\n",
    "            print (l1)"
   ]
  },
  {
   "cell_type": "code",
   "execution_count": null,
   "id": "dd9caeaa",
   "metadata": {},
   "outputs": [],
   "source": [
    "###COPIADO DE COMENTARIOS:\n",
    "class Desafio:\n",
    "    def criar_pastas():\n",
    "        estados = ['RJ','SP','MG','GO','AM']\n",
    "        for uf in estados:\n",
    "            try:\n",
    "                Path(uf).mkdir()\n",
    "            except:\n",
    "                pass\n",
    "    \n",
    "    def separar_uf():\n",
    "        Desafio.criar_pastas()\n",
    "        estados = ['RJ','SP','MG','GO','AM']\n",
    "        caminho = Path('Arquivos_Lojas')\n",
    "        arquivos = list(caminho.iterdir())\n",
    "        for uf in estados:\n",
    "            for arquivo in arquivos:\n",
    "                if '_' + uf in arquivo.name:\n",
    "                    copiar = arquivo\n",
    "                    colar = Path(uf) / arquivo.name\n",
    "                    \n",
    "                    shutil.copy2(copiar, colar)\n",
    "if __name__ == '__main__':\n",
    "    Desafio.separar_uf()\n"
   ]
  }
 ],
 "metadata": {
  "kernelspec": {
   "display_name": "Python 3",
   "language": "python",
   "name": "python3"
  },
  "language_info": {
   "codemirror_mode": {
    "name": "ipython",
    "version": 3
   },
   "file_extension": ".py",
   "mimetype": "text/x-python",
   "name": "python",
   "nbconvert_exporter": "python",
   "pygments_lexer": "ipython3",
   "version": "3.8.8"
  }
 },
 "nbformat": 4,
 "nbformat_minor": 5
}
