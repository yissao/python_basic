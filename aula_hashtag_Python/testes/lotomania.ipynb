{
 "cells": [
  {
   "cell_type": "code",
   "execution_count": 28,
   "id": "9319ca7a",
   "metadata": {},
   "outputs": [
    {
     "name": "stdout",
     "output_type": "stream",
     "text": [
      "   a  b\n",
      "0  1  5\n",
      "1  2  6\n",
      "2  3  7\n",
      "3  4  8 \n",
      "\n"
     ]
    },
    {
     "data": {
      "text/html": [
       "<div>\n",
       "<style scoped>\n",
       "    .dataframe tbody tr th:only-of-type {\n",
       "        vertical-align: middle;\n",
       "    }\n",
       "\n",
       "    .dataframe tbody tr th {\n",
       "        vertical-align: top;\n",
       "    }\n",
       "\n",
       "    .dataframe thead th {\n",
       "        text-align: right;\n",
       "    }\n",
       "</style>\n",
       "<table border=\"1\" class=\"dataframe\">\n",
       "  <thead>\n",
       "    <tr style=\"text-align: right;\">\n",
       "      <th></th>\n",
       "      <th>a</th>\n",
       "      <th>b</th>\n",
       "    </tr>\n",
       "  </thead>\n",
       "  <tbody>\n",
       "    <tr>\n",
       "      <th>0</th>\n",
       "      <td>1</td>\n",
       "      <td>5</td>\n",
       "    </tr>\n",
       "    <tr>\n",
       "      <th>1</th>\n",
       "      <td>2</td>\n",
       "      <td>6</td>\n",
       "    </tr>\n",
       "    <tr>\n",
       "      <th>2</th>\n",
       "      <td>3</td>\n",
       "      <td>7</td>\n",
       "    </tr>\n",
       "  </tbody>\n",
       "</table>\n",
       "</div>"
      ],
      "text/plain": [
       "   a  b\n",
       "0  1  5\n",
       "1  2  6\n",
       "2  3  7"
      ]
     },
     "execution_count": 28,
     "metadata": {},
     "output_type": "execute_result"
    }
   ],
   "source": [
    "# Importing pandas as pd\n",
    "import pandas as pd\n",
    "  \n",
    "# Creating the first Dataframe using dictionary\n",
    "df1 = df = pd.DataFrame({\"a\":[1, 2, 3, 4],\n",
    "                         \"b\":[5, 6, 7, 8]})\n",
    "  \n",
    "# Creating the Second Dataframe using dictionary\n",
    "df2 = pd.DataFrame({\"a\":[1, 2, 3],\n",
    "                    \"b\":[5, 6, 7]})\n",
    "  \n",
    "# Print df1\n",
    "print(df1, \"\\n\")\n",
    "  \n",
    "# Print df2\n",
    "df2"
   ]
  },
  {
   "cell_type": "code",
   "execution_count": 2,
   "id": "9c71e341",
   "metadata": {},
   "outputs": [
    {
     "data": {
      "text/html": [
       "<div>\n",
       "<style scoped>\n",
       "    .dataframe tbody tr th:only-of-type {\n",
       "        vertical-align: middle;\n",
       "    }\n",
       "\n",
       "    .dataframe tbody tr th {\n",
       "        vertical-align: top;\n",
       "    }\n",
       "\n",
       "    .dataframe thead th {\n",
       "        text-align: right;\n",
       "    }\n",
       "</style>\n",
       "<table border=\"1\" class=\"dataframe\">\n",
       "  <thead>\n",
       "    <tr style=\"text-align: right;\">\n",
       "      <th></th>\n",
       "      <th>a</th>\n",
       "      <th>b</th>\n",
       "    </tr>\n",
       "  </thead>\n",
       "  <tbody>\n",
       "    <tr>\n",
       "      <th>0</th>\n",
       "      <td>1</td>\n",
       "      <td>5</td>\n",
       "    </tr>\n",
       "    <tr>\n",
       "      <th>1</th>\n",
       "      <td>2</td>\n",
       "      <td>6</td>\n",
       "    </tr>\n",
       "    <tr>\n",
       "      <th>2</th>\n",
       "      <td>3</td>\n",
       "      <td>7</td>\n",
       "    </tr>\n",
       "    <tr>\n",
       "      <th>3</th>\n",
       "      <td>4</td>\n",
       "      <td>8</td>\n",
       "    </tr>\n",
       "    <tr>\n",
       "      <th>4</th>\n",
       "      <td>1</td>\n",
       "      <td>5</td>\n",
       "    </tr>\n",
       "    <tr>\n",
       "      <th>5</th>\n",
       "      <td>2</td>\n",
       "      <td>6</td>\n",
       "    </tr>\n",
       "    <tr>\n",
       "      <th>6</th>\n",
       "      <td>3</td>\n",
       "      <td>7</td>\n",
       "    </tr>\n",
       "  </tbody>\n",
       "</table>\n",
       "</div>"
      ],
      "text/plain": [
       "   a  b\n",
       "0  1  5\n",
       "1  2  6\n",
       "2  3  7\n",
       "3  4  8\n",
       "4  1  5\n",
       "5  2  6\n",
       "6  3  7"
      ]
     },
     "execution_count": 2,
     "metadata": {},
     "output_type": "execute_result"
    }
   ],
   "source": [
    "# to append df2 at the end of df1 dataframe\n",
    "# df1.append(df2)\n",
    "#print (df1)\n",
    "\n",
    "# A continuous index value will be maintained\n",
    "# across the rows in the new appended data frame.\n",
    "df1.append(df2, ignore_index = True)\n",
    "#print (df1)"
   ]
  },
  {
   "cell_type": "code",
   "execution_count": 6,
   "id": "a5755388",
   "metadata": {},
   "outputs": [
    {
     "name": "stdout",
     "output_type": "stream",
     "text": [
      "    itens  todos\n",
      "0       2      1\n",
      "1       4      3\n",
      "2       7      5\n",
      "3       8      6\n",
      "4       9     10\n",
      "5      11     12\n",
      "6      14     13\n",
      "7      15     16\n",
      "8      17     21\n",
      "9      18     23\n",
      "10     19     27\n",
      "11     20     28\n",
      "12     22     29\n",
      "13     24     31\n",
      "14     25     32\n",
      "15     26     33\n",
      "16     30     37\n",
      "17     34     38\n",
      "18     35     39\n",
      "19     36     41\n",
      "20     40     42\n",
      "21     43     46\n",
      "22     44     47\n",
      "23     45     48\n",
      "24     51     49\n",
      "25     55     50\n",
      "26     56     52\n",
      "27     58     53\n",
      "28     59     54\n",
      "29     61     57\n",
      "30     62     60\n",
      "31     63     64\n",
      "32     66     65\n",
      "33     70     67\n",
      "34     71     68\n",
      "35     74     69\n",
      "36     75     72\n",
      "37     76     73\n",
      "38     77     80\n",
      "39     78     84\n",
      "40     79     87\n",
      "41     81     88\n",
      "42     82     91\n",
      "43     83     92\n",
      "44     85     93\n",
      "45     86     94\n",
      "46     89     95\n",
      "47     90     96\n",
      "48     97     99\n",
      "49     98    100\n"
     ]
    }
   ],
   "source": [
    "A=[2,4,7,8,9,11,14,15,17,18,19,20,22,24,25,26,30,34,35,36,40,43,44,45,51,55,56,58,59,61,62,63,66,70,71,74,75,76,77,78,79,81,82,83,85,86,89,90,97,98]\n",
    "B=[1,3,5,6,10,12,13,16,21,23,27,28,29,31,32,33,37,38,39,41,42,46,47,48,49,50,52,53,54,57,60,64,65,67,68,69,72,73,80,84,87,88,91,92,93,94,95,96,99,100]\n",
    "C=[1,2,8,9,12,13,15,16,17,18,19,20,21,22,26,27,29,35,37,40,41,42,45,47,50,55,56,57,58,59,60,61,63,66,69,74,75,76,77,80,81,82,86,88,89,96,97,98,99,100]\n",
    "D=[3,4,5,6,7,10,11,14,23,24,25,28,30,31,32,33,34,36,38,39,43,44,46,48,49,51,52,53,54,62,64,65,67,68,70,71,72,73,78,79,83,84,85,87,90,91,92,93,94,95]\n",
    "E=[1,3,5,10,12,13,14,16,17,18,19,21,23,24,27,28,29,30,31,33,35,38,39,41,43,46,47,48,49,54,55,58,62,63,65,68,70,74,75,78,79,84,86,89,90,92,94,95,96,100]\n",
    "F=[2,4,6,7,8,9,11,15,20,22,25,26,32,34,36,37,40,42,44,45,50,51,52,53,56,57,59,60,61,64,66,67,69,71,72,73,76,77,80,81,82,83,85,87,88,91,93,97,98,99]\n",
    "G=[1,3,5,9,11,12,13,14,16,17,23,26,28,32,33,35,36,37,40,42,43,44,47,49,52,53,54,55,57,59,60,61,63,64,67,68,74,75,76,78,82,83,84,87,93,95,96,97,98,99]\n",
    "H=[1,3,4,6,8,10,11,12,14,19,23,24,25,26,29,35,38,41,42,43,44,45,48,49,50,51,53,54,55,57,58,61,62,64,65,66,68,71,72,73,76,78,82,83,85,86,87,91,93,95]\n",
    "listatotal = [1, 2, 3, 4, 5, 6, 7, 8, 9, 10, 11, 12, 13, 14, 15, 16, 17, 18, 19, 20, 21, 22, 23, 24, 25, 26, 27, 28, 29, 30, \n",
    "              31, 32, 33, 34, 35, 36, 37, 38, 39, 40, 41, 42, 43, 44, 45, 46, 47, 48, 49, 50, 51, 52, 53, 54, 55, 56, 57, \n",
    "              58, 59, 60, 61, 62, 63, 64, 65, 66, 67, 68, 69, 70, 71, 72, 73, 74, 75, 76, 77, 78, 79, 80, 81, 82, 83, 84, \n",
    "              85, 86, 87, 88, 89, 90, 91, 92, 93, 94, 95, 96, 97, 98, 99, 100]\n",
    "total = pd.DataFrame (listatotal, columns = ['todos'])\n",
    "lista01 = pd.DataFrame(A,columns = ['itens'])\n",
    "espelho = total[~total['todos'].isin(list(lista01['itens']))]\n",
    "\n",
    "espelho = espelho.reset_index(drop=True)\n",
    "ambos = pd.concat([lista01, espelho], axis=1)\n",
    "\n",
    "print (ambos)"
   ]
  },
  {
   "cell_type": "code",
   "execution_count": 40,
   "id": "0e15378e",
   "metadata": {},
   "outputs": [
    {
     "name": "stdout",
     "output_type": "stream",
     "text": [
      "     A  todos\n",
      "0    2      1\n",
      "1    4      3\n",
      "2    7      5\n",
      "3    8      6\n",
      "4    9     10\n",
      "5   11     12\n",
      "6   14     13\n",
      "7   15     16\n",
      "8   17     21\n",
      "9   18     23\n",
      "10  19     27\n",
      "11  20     28\n",
      "12  22     29\n",
      "13  24     31\n",
      "14  25     32\n",
      "15  26     33\n",
      "16  30     37\n",
      "17  34     38\n",
      "18  35     39\n",
      "19  36     41\n",
      "20  40     42\n",
      "21  43     46\n",
      "22  44     47\n",
      "23  45     48\n",
      "24  51     49\n",
      "25  55     50\n",
      "26  56     52\n",
      "27  58     53\n",
      "28  59     54\n",
      "29  61     57\n",
      "30  62     60\n",
      "31  63     64\n",
      "32  66     65\n",
      "33  70     67\n",
      "34  71     68\n",
      "35  74     69\n",
      "36  75     72\n",
      "37  76     73\n",
      "38  77     80\n",
      "39  78     84\n",
      "40  79     87\n",
      "41  81     88\n",
      "42  82     91\n",
      "43  83     92\n",
      "44  85     93\n",
      "45  86     94\n",
      "46  89     95\n",
      "47  90     96\n",
      "48  97     99\n",
      "49  98    100\n"
     ]
    }
   ],
   "source": [
    "A=[2,4,7,8,9,11,14,15,17,18,19,20,22,24,25,26,30,34,35,36,40,43,44,45,51,55,56,58,59,61,62,63,66,70,71,74,75,76,77,78,79,81,82,83,85,86,89,90,97,98]\n",
    "B=[1,3,5,6,10,12,13,16,21,23,27,28,29,31,32,33,37,38,39,41,42,46,47,48,49,50,52,53,54,57,60,64,65,67,68,69,72,73,80,84,87,88,91,92,93,94,95,96,99,100]\n",
    "C=[1,2,8,9,12,13,15,16,17,18,19,20,21,22,26,27,29,35,37,40,41,42,45,47,50,55,56,57,58,59,60,61,63,66,69,74,75,76,77,80,81,82,86,88,89,96,97,98,99,100]\n",
    "D=[3,4,5,6,7,10,11,14,23,24,25,28,30,31,32,33,34,36,38,39,43,44,46,48,49,51,52,53,54,62,64,65,67,68,70,71,72,73,78,79,83,84,85,87,90,91,92,93,94,95]\n",
    "E=[1,3,5,10,12,13,14,16,17,18,19,21,23,24,27,28,29,30,31,33,35,38,39,41,43,46,47,48,49,54,55,58,62,63,65,68,70,74,75,78,79,84,86,89,90,92,94,95,96,100]\n",
    "F=[2,4,6,7,8,9,11,15,20,22,25,26,32,34,36,37,40,42,44,45,50,51,52,53,56,57,59,60,61,64,66,67,69,71,72,73,76,77,80,81,82,83,85,87,88,91,93,97,98,99]\n",
    "G=[1,3,5,9,11,12,13,14,16,17,23,26,28,32,33,35,36,37,40,42,43,44,47,49,52,53,54,55,57,59,60,61,63,64,67,68,74,75,76,78,82,83,84,87,93,95,96,97,98,99]\n",
    "H=[1,3,4,6,8,10,11,12,14,19,23,24,25,26,29,35,38,41,42,43,44,45,48,49,50,51,53,54,55,57,58,61,62,64,65,66,68,71,72,73,76,78,82,83,85,86,87,91,93,95]\n",
    "listatotal = [1, 2, 3, 4, 5, 6, 7, 8, 9, 10, 11, 12, 13, 14, 15, 16, 17, 18, 19, 20, 21, 22, 23, 24, 25, 26, 27, 28, 29, 30, \n",
    "              31, 32, 33, 34, 35, 36, 37, 38, 39, 40, 41, 42, 43, 44, 45, 46, 47, 48, 49, 50, 51, 52, 53, 54, 55, 56, 57, \n",
    "              58, 59, 60, 61, 62, 63, 64, 65, 66, 67, 68, 69, 70, 71, 72, 73, 74, 75, 76, 77, 78, 79, 80, 81, 82, 83, 84, \n",
    "              85, 86, 87, 88, 89, 90, 91, 92, 93, 94, 95, 96, 97, 98, 99, 100]\n",
    "total = pd.DataFrame (listatotal, columns = ['todos'])\n",
    "lista01 = pd.DataFrame(A,columns = ['A'])\n",
    "espelho = total[~total['todos'].isin(list(lista01['A']))]\n",
    "\n",
    "espelho = espelho.reset_index(drop=True)\n",
    "espelho.rename(columns={'todos': 'aa'}, inplace=True)\n",
    "ambos = pd.concat([lista01, espelho], axis=1)\n",
    "# ambos.rename(columns={'todos': 'aa'}, inplace=True)\n",
    "\n",
    "\n",
    "\n",
    "print (ambos)"
   ]
  },
  {
   "cell_type": "code",
   "execution_count": null,
   "id": "a8c5b7dd",
   "metadata": {},
   "outputs": [],
   "source": [
    "listatotal = [1, 2, 3, 4, 5, 6, 7, 8, 9, 10, 11, 12, 13, 14, 15, 16, 17, 18, 19, 20, 21, 22, 23, 24, 25, 26, 27, 28, 29, 30, \n",
    "              31, 32, 33, 34, 35, 36, 37, 38, 39, 40, 41, 42, 43, 44, 45, 46, 47, 48, 49, 50, 51, 52, 53, 54, 55, 56, 57, \n",
    "              58, 59, 60, 61, 62, 63, 64, 65, 66, 67, 68, 69, 70, 71, 72, 73, 74, 75, 76, 77, 78, 79, 80, 81, 82, 83, 84, \n",
    "              85, 86, 87, 88, 89, 90, 91, 92, 93, 94, 95, 96, 97, 98, 99, 100]\n",
    "\n",
    "total = pd.DataFrame (listatotal, columns = ['todos'])\n",
    "\n",
    "lista01 = pd.read_csv('lista.csv',names = ['itens'])\n",
    "# espelho = lista01[~lista01['itens'].isin(list(total['todos']))]\n",
    "espelho = total[~total['todos'].isin(list(lista01['itens']))]\n",
    "\n",
    "# print(lista01)\n",
    "# print(espelho)\n",
    "\n",
    "# ambos = lista01.merge(espelho, on='espelho') #não funcionou precisa ter uma coluna 'espelho' no df lista01\n",
    "# lista01['espelho']=''\n",
    "# espelho = espelho.rename(columns={'todos' : 'espelho'})\n",
    "# ambos = lista01.merge(espelho, on='espelho') #não funcionou ValueError: You are trying to merge on object and int64 columns. If you wish to proceed you should use pd.concat\n",
    "\n",
    "# ambos = pd.concat([lista01, espelho], axis=1, join='inner')\n",
    "# apagou a primeira linha\n",
    "\n",
    "# ambos=lista01.append(espelho)\n",
    "# dobrou a lista preenchendo com NaN\n",
    "\n",
    "# ambos = pd.concat([lista01, espelho], axis=1)\n",
    "# ambos = pd.concat([lista01, espelho], axis=1, ignore_index=True)\n",
    "# alinha os itens de acordo com o indice de linhas do df todos que manteve, após a intersecção, do df total\n",
    "\n",
    "# espelho = espelho.reset_index()\n",
    "# ambos = pd.concat([lista01, espelho], axis=1)\n",
    "# veio com a coluna index do espelho\n",
    "\n",
    "espelho = espelho.reset_index(drop=True)\n",
    "ambos = pd.concat([lista01, espelho], axis=1)\n",
    "\n",
    "ambos.to_csv('ambos.csv', index=False)\n",
    "print('Feito!')"
   ]
  },
  {
   "cell_type": "markdown",
   "id": "26eee282",
   "metadata": {},
   "source": [
    "## funcoes para lista espelho\n",
    "https://stackoverflow.com/questions/3462143/get-difference-between-two-lists\n"
   ]
  },
  {
   "cell_type": "code",
   "execution_count": 1,
   "id": "cd0d38c3",
   "metadata": {},
   "outputs": [],
   "source": [
    "list1 = [1, 3, 5, 7, 9]\n",
    "list2 = [1, 2, 3, 4, 5]"
   ]
  },
  {
   "cell_type": "code",
   "execution_count": 6,
   "id": "2b3e5c64",
   "metadata": {
    "scrolled": true
   },
   "outputs": [
    {
     "name": "stdout",
     "output_type": "stream",
     "text": [
      "[7, 9, 2, 4]\n"
     ]
    }
   ],
   "source": [
    "def difference(list1, list2):\n",
    "    new_list = []\n",
    "    for i in list1:\n",
    "        if i not in list2:\n",
    "            new_list.append(i)\n",
    "\n",
    "    for j in list2:\n",
    "        if j not in list1:\n",
    "            new_list.append(j)\n",
    "    return new_list\n",
    "\n",
    "funcao = difference(list1, list2)\n",
    "print (funcao)"
   ]
  },
  {
   "cell_type": "code",
   "execution_count": 7,
   "id": "df8ee72a",
   "metadata": {
    "scrolled": true
   },
   "outputs": [
    {
     "name": "stdout",
     "output_type": "stream",
     "text": [
      "[2, 4, 7, 9]\n"
     ]
    }
   ],
   "source": [
    "# versus\n",
    "\n",
    "def sym_diff(list1, list2):\n",
    "    return list(set(list1).symmetric_difference(set(list2)))\n",
    "\n",
    "funcao = sym_diff(list1, list2)\n",
    "print (funcao)\n"
   ]
  },
  {
   "cell_type": "code",
   "execution_count": 25,
   "id": "f2437221",
   "metadata": {},
   "outputs": [
    {
     "name": "stdout",
     "output_type": "stream",
     "text": [
      "{9, 7}\n",
      "[9, 7]\n"
     ]
    }
   ],
   "source": [
    "# print (set(list1).difference(set(list2)) #falta parentese para fechar o print()\n",
    "# print (list(set(list1).difference(set(list2))) #falta parentese para fechar o print()\n",
    "\n",
    "print (set(list1).difference(set(list2)))\n",
    "print (list(set(list1).difference(set(list2))))"
   ]
  },
  {
   "cell_type": "code",
   "execution_count": 14,
   "id": "d469e82b",
   "metadata": {},
   "outputs": [
    {
     "data": {
      "text/plain": [
       "{1}"
      ]
     },
     "execution_count": 14,
     "metadata": {},
     "output_type": "execute_result"
    }
   ],
   "source": [
    "list_a = [1,2,3]\n",
    "list_b = [2,3]\n",
    "set(list_a).difference(set(list_b))"
   ]
  }
 ],
 "metadata": {
  "kernelspec": {
   "display_name": "Python 3",
   "language": "python",
   "name": "python3"
  },
  "language_info": {
   "codemirror_mode": {
    "name": "ipython",
    "version": 3
   },
   "file_extension": ".py",
   "mimetype": "text/x-python",
   "name": "python",
   "nbconvert_exporter": "python",
   "pygments_lexer": "ipython3",
   "version": "3.8.8"
  }
 },
 "nbformat": 4,
 "nbformat_minor": 5
}
