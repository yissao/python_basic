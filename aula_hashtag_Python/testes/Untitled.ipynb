{
 "cells": [
  {
   "cell_type": "markdown",
   "id": "e203bb4c",
   "metadata": {},
   "source": [
    "import pandas as pd\n",
    "import requests #usar para requisicao de download, quando o link não é o endereco do arquivo (pornhub???)\n",
    "import io #usar para converter o arquivo\n",
    "\n",
    "url = 'http://portalweb.cooxupe.com.br:8080/portal/precohistoricocafe_2.jsp?d-3496238-e=2&6578706f7274=1'\n",
    "conteudo_url = requests.get(url).content\n",
    "arquivo = io.StringIO(conteudo_url.decode('latin1'))\n",
    "cafe_df = pd.read_csv(arquivo, sep=r'\\t', engine='python')\n",
    "display(cafe_df)"
   ]
  },
  {
   "cell_type": "code",
   "execution_count": null,
   "id": "cb7a9532",
   "metadata": {},
   "outputs": [],
   "source": []
  }
 ],
 "metadata": {
  "kernelspec": {
   "display_name": "Python 3",
   "language": "python",
   "name": "python3"
  },
  "language_info": {
   "codemirror_mode": {
    "name": "ipython",
    "version": 3
   },
   "file_extension": ".py",
   "mimetype": "text/x-python",
   "name": "python",
   "nbconvert_exporter": "python",
   "pygments_lexer": "ipython3",
   "version": "3.8.8"
  }
 },
 "nbformat": 4,
 "nbformat_minor": 5
}
