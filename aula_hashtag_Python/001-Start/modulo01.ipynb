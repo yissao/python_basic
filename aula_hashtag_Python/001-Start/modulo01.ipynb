{
 "cells": [
  {
   "cell_type": "markdown",
   "id": "7e0ee2e5",
   "metadata": {},
   "source": [
    "Ctrl [enter] = executa <br>\n",
    "Shft [enter] = adiciona célula"
   ]
  },
  {
   "cell_type": "code",
   "execution_count": 6,
   "id": "4bc1a727",
   "metadata": {},
   "outputs": [
    {
     "ename": "SyntaxError",
     "evalue": "invalid syntax (<ipython-input-6-230e87b23351>, line 4)",
     "output_type": "error",
     "traceback": [
      "\u001b[1;36m  File \u001b[1;32m\"<ipython-input-6-230e87b23351>\"\u001b[1;36m, line \u001b[1;32m4\u001b[0m\n\u001b[1;33m    print (gera erro, pois nã ha declaracao)\u001b[0m\n\u001b[1;37m                ^\u001b[0m\n\u001b[1;31mSyntaxError\u001b[0m\u001b[1;31m:\u001b[0m invalid syntax\n"
     ]
    }
   ],
   "source": [
    "print (123)\n",
    "print ('qualquer coisa')\n",
    "print (erro) #gera erro, pois nã ha declaracao da VARIAVEL 'erro'\n",
    "print (gera erro, pois nã ha declaracao)\n"
   ]
  },
  {
   "cell_type": "code",
   "execution_count": 14,
   "id": "01f424c2",
   "metadata": {},
   "outputs": [
    {
     "name": "stdout",
     "output_type": "stream",
     "text": [
      "6\n",
      "8\n",
      "3\n",
      "0.6666666666666666\n",
      "3.0\n",
      "2.5\n"
     ]
    },
    {
     "ename": "ZeroDivisionError",
     "evalue": "division by zero",
     "output_type": "error",
     "traceback": [
      "\u001b[1;31m---------------------------------------------------------------------------\u001b[0m",
      "\u001b[1;31mZeroDivisionError\u001b[0m                         Traceback (most recent call last)",
      "\u001b[1;32m<ipython-input-14-c24a01dd4bf2>\u001b[0m in \u001b[0;36m<module>\u001b[1;34m\u001b[0m\n\u001b[0;32m      6\u001b[0m \u001b[0mprint\u001b[0m \u001b[1;33m(\u001b[0m\u001b[1;36m1.0\u001b[0m \u001b[1;33m+\u001b[0m \u001b[1;36m2\u001b[0m\u001b[1;33m)\u001b[0m\u001b[1;33m\u001b[0m\u001b[1;33m\u001b[0m\u001b[0m\n\u001b[0;32m      7\u001b[0m \u001b[0mprint\u001b[0m \u001b[1;33m(\u001b[0m\u001b[1;36m2\u001b[0m \u001b[1;33m+\u001b[0m \u001b[1;36m2\u001b[0m \u001b[1;33m/\u001b[0m \u001b[1;36m4\u001b[0m\u001b[1;33m)\u001b[0m\u001b[1;33m\u001b[0m\u001b[1;33m\u001b[0m\u001b[0m\n\u001b[1;32m----> 8\u001b[1;33m \u001b[0mprint\u001b[0m \u001b[1;33m(\u001b[0m\u001b[1;36m3\u001b[0m \u001b[1;33m/\u001b[0m \u001b[1;36m0\u001b[0m\u001b[1;33m)\u001b[0m \u001b[1;31m#erro divisão por zero\u001b[0m\u001b[1;33m\u001b[0m\u001b[1;33m\u001b[0m\u001b[0m\n\u001b[0m",
      "\u001b[1;31mZeroDivisionError\u001b[0m: division by zero"
     ]
    }
   ],
   "source": [
    "#executa operações:\n",
    "print (2 * 3)\n",
    "print (2 ** 3)\n",
    "print (7 % 4) #mod, resto da divisão\n",
    "print (2 / 3)\n",
    "print (1.0 + 2)\n",
    "print (2 + 2 / 4)\n",
    "print (3 / 0) #erro divisão por zero"
   ]
  },
  {
   "cell_type": "code",
   "execution_count": 20,
   "id": "1a28d34b",
   "metadata": {},
   "outputs": [
    {
     "name": "stdout",
     "output_type": "stream",
     "text": [
      "nao adicionaespaçoautomaticamente\n",
      "colocar espaço manualmente\n",
      "False\n",
      "False\n",
      "True\n"
     ]
    }
   ],
   "source": [
    "print ('nao adiciona' + 'espaço' + 'automaticamente')\n",
    "print ('colocar ' + 'espaço' + ' ' + 'manualmente')\n",
    "print ('yama' in 'Yamazaki') #case sensitive\n",
    "print ('Yama' in 'yamazaki') #case sensitive\n",
    "print ('Yama' in 'Yamazaki') #case sensitive"
   ]
  },
  {
   "cell_type": "code",
   "execution_count": 24,
   "id": "08dcb6d5",
   "metadata": {},
   "outputs": [
    {
     "name": "stdout",
     "output_type": "stream",
     "text": [
      "2800\n"
     ]
    }
   ],
   "source": [
    "qtd_vendas = 1800\n",
    "print (qtd_vendas + 1000)"
   ]
  },
  {
   "cell_type": "code",
   "execution_count": null,
   "id": "78a4c5ac",
   "metadata": {},
   "outputs": [],
   "source": [
    "input ('vou esquecer esta informação')\n",
    "nome = input ('Qual seu nome?')\n",
    "print (nome)"
   ]
  },
  {
   "cell_type": "markdown",
   "id": "0116535c",
   "metadata": {},
   "source": [
    "# print = 'qualquercoisa' !!!!NUNCA!!!!\n",
    "\n",
    "caso aconteça: <br>\n",
    "REINICIAR O KERNEL"
   ]
  },
  {
   "cell_type": "code",
   "execution_count": 1,
   "id": "e9a5e3fe",
   "metadata": {
    "scrolled": true
   },
   "outputs": [
    {
     "name": "stdout",
     "output_type": "stream",
     "text": [
      "teste\n"
     ]
    }
   ],
   "source": [
    "print ('teste')\n",
    "# print = 'teste' ALTERA A FORMAR COMO O print FUNCIONA\n",
    "#---------------------------------------------------------------------------\n",
    "#TypeError                                 Traceback (most recent call last)\n",
    "#<ipython-input-3-c178d6bff504> in <module>\n",
    "#----> 1 print ('teste')\n",
    "#      2 print = 'teste'\n",
    "#\n",
    "#TypeError: 'str' object is not callable"
   ]
  },
  {
   "cell_type": "code",
   "execution_count": 20,
   "id": "c160858b",
   "metadata": {
    "scrolled": true
   },
   "outputs": [
    {
     "data": {
      "text/plain": [
       "bool"
      ]
     },
     "execution_count": 20,
     "metadata": {},
     "output_type": "execute_result"
    }
   ],
   "source": [
    "teste_tipo = 10\n",
    "type(teste_tipo)\n",
    "teste_tipo = 10.0\n",
    "type (teste_tipo)\n",
    "teste_tipo = '10'\n",
    "type (teste_tipo)\n",
    "#teste_tipo = true #nome não definido 'true'\n",
    "#type (teste_tipo)\n",
    "teste_tipo = True\n",
    "type (teste_tipo)\n"
   ]
  },
  {
   "cell_type": "code",
   "execution_count": 25,
   "id": "60a0f009",
   "metadata": {},
   "outputs": [
    {
     "name": "stdout",
     "output_type": "stream",
     "text": [
      "O faturamento da loja foi: 1000\n",
      "O faturamento da loja foi: 1000O custo da loja foi: 500Assim, o lucor foi de: 500\n",
      "O faturamento da loja foi: 1000. O custo da loja foi:500Assim, o lucor foi de:500\n"
     ]
    }
   ],
   "source": [
    "faturamento = 1000\n",
    "\n",
    "#print ('O faturamento da loja foi: ' + faturamento)\n",
    "\n",
    "#---------------------------------------------------------------------------\n",
    "#TypeError                                 Traceback (most recent call last)\n",
    "#<ipython-input-21-50df12067022> in <module>\n",
    "#      1 faturamento = 1000\n",
    "#----> 2 print ('O faturamento da loja foi: ' + faturamento)\n",
    "#\n",
    "#TypeError: can only concatenate str (not \"int\") to str\n",
    "\n",
    "print ('O faturamento da loja foi: ' +  str(faturamento))\n",
    "custo = 500\n",
    "lucro = faturamento - custo\n",
    "\n",
    "print ('O faturamento da loja foi: ' + str(faturamento) + 'O custo da loja foi: ' + str(custo) + 'Assim, o lucor foi de: ' + str(lucro))\n",
    "print ('O faturamento da loja foi: {}. O custo da loja foi:{}Assim, o lucor foi de:{}' .format(faturamento, custo, lucro))\n"
   ]
  }
 ],
 "metadata": {
  "kernelspec": {
   "display_name": "Python 3",
   "language": "python",
   "name": "python3"
  },
  "language_info": {
   "codemirror_mode": {
    "name": "ipython",
    "version": 3
   },
   "file_extension": ".py",
   "mimetype": "text/x-python",
   "name": "python",
   "nbconvert_exporter": "python",
   "pygments_lexer": "ipython3",
   "version": "3.8.8"
  }
 },
 "nbformat": 4,
 "nbformat_minor": 5
}
