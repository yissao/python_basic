{
 "cells": [
  {
   "cell_type": "markdown",
   "metadata": {},
   "source": [
    "# Exercícios\n",
    "\n",
    "## 1. Input até o usuário parar\n",
    "\n",
    "Vamos criar um sistema de vendas. Nosso programa deve registrar os produtos e as quantidades (2 inputs) e adicionar em uma lista.\n",
    "\n",
    "O programa deve continuar rodando até o input ser vazio, ou seja, o usuário apertar enter sem digitar nenhum produto ou quantidade.\n",
    "\n",
    "Ao final do programa, ele deve printar todos os produtos e quantidades vendidas.\n",
    "\n",
    "Obs: Caso queira, para o print ficar mais visual, pode usar o join para cada item ser printado em uma linha.\n",
    "Sugestão para sua lista de produtos vendidos:"
   ]
  },
  {
   "cell_type": "raw",
   "metadata": {},
   "source": [
    "vendas = [\n",
    "    ['maçã', 5],\n",
    "    ['banana', 15],\n",
    "    ['azeite', 1],\n",
    "    ['vinho', 3],\n",
    "]"
   ]
  },
  {
   "cell_type": "code",
   "execution_count": 17,
   "metadata": {},
   "outputs": [
    {
     "name": "stdout",
     "output_type": "stream",
     "text": [
      "digite o nome do item:xxxx\n",
      "qual a quantidade: 33\n",
      "digite o nome do item:aaa\n",
      "qual a quantidade: 22\n",
      "digite o nome do item:\n",
      "qual a quantidade: \n",
      "[['xxxx', '33'], ['aaa', '22'], ['', '']]\n"
     ]
    }
   ],
   "source": [
    "#seu código aqui\n",
    "vendas = []\n",
    "item = ' '\n",
    "qtd = 1\n",
    "while item != '':\n",
    "# while item != '' or qtd != 0:\n",
    "    item = input('digite o nome do item:')\n",
    "#    vendas[0] = entrada\n",
    "    qtd = input('qual a quantidade: ')\n",
    "#    vendas[1] = entrada\n",
    "#     vendas.extend([[item,qtd]])\n",
    "    vendas.append([item,qtd])\n",
    "print(vendas)"
   ]
  },
  {
   "cell_type": "code",
   "execution_count": 18,
   "metadata": {},
   "outputs": [
    {
     "name": "stdout",
     "output_type": "stream",
     "text": [
      "digite o nome do item:jjj\n",
      "qual a quantidade: 1\n",
      "digite o nome do item:kkk\n",
      "qual a quantidade: 2\n",
      "digite o nome do item:lll\n",
      "qual a quantidade: 3\n",
      "digite o nome do item:\n",
      "[['xxxx', '33'], ['aaa', '22'], ['', ''], ['jjj', '1'], ['kkk', '2'], ['lll', '3']]\n"
     ]
    }
   ],
   "source": [
    "while 1:\n",
    "    item = input('digite o nome do item:')\n",
    "    if not item:\n",
    "        break\n",
    "    qtd = input('qual a quantidade: ')\n",
    "    vendas.append([item,qtd])\n",
    "print(vendas)"
   ]
  },
  {
   "cell_type": "markdown",
   "metadata": {},
   "source": [
    "### Obs: Podemos fazer o While de 2 maneiras:\n",
    "\n",
    "1. While com a condição que finalize o programa\n",
    "2. While rodando para sempre, mas com uma condição dentro do while que dê um break no código.\n",
    "\n",
    "Vamos mostrar as 2 opções"
   ]
  }
 ],
 "metadata": {
  "kernelspec": {
   "display_name": "Python 3",
   "language": "python",
   "name": "python3"
  },
  "language_info": {
   "codemirror_mode": {
    "name": "ipython",
    "version": 3
   },
   "file_extension": ".py",
   "mimetype": "text/x-python",
   "name": "python",
   "nbconvert_exporter": "python",
   "pygments_lexer": "ipython3",
   "version": "3.8.8"
  }
 },
 "nbformat": 4,
 "nbformat_minor": 4
}
