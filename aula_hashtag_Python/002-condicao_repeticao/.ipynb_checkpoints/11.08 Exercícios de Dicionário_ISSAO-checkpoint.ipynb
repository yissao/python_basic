{
 "cells": [
  {
   "cell_type": "markdown",
   "metadata": {},
   "source": [
    "# Exercícios\n",
    "\n",
    "## 1. Exercício \"menos prático\" para treinar manipulação de dicionário\n",
    "\n",
    "Dessa vez, vamos apenas treinar a manipulação de dicionário. Transforme as listas abaixo em 1 único dicionário no formato:"
   ]
  },
  {
   "cell_type": "raw",
   "metadata": {},
   "source": [
    "dicionario = {\n",
    "    produto: [vendas2019, vendas2020],\n",
    "    produto2: [vendas2019, vendas2020],\n",
    "    produto3: [vendas2019, vendas2020],\n",
    "    ...\n",
    "}"
   ]
  },
  {
   "cell_type": "markdown",
   "metadata": {},
   "source": [
    "- Apesar de parecer \"menos prático\" esse é um procedimento que precisamos nos acostumar a fazer, visto que algumas funções (tema dos próximos módulos) precisam de dicionários para funcionar e saber transformar listas em dicionários (e vice-versa) é uma habilidade muito útil\n",
    "\n",
    "Obs: Lembre do zip para juntar listas.<br>\n",
    "Obs2: Repare que cada item das vendas é na verdade uma lista. Então é provável que você precise fazer esse código em 2 etapas"
   ]
  },
  {
   "cell_type": "code",
   "execution_count": 12,
   "metadata": {},
   "outputs": [
    {
     "name": "stdout",
     "output_type": "stream",
     "text": [
      "[('iphone', 558147, 951642), ('galaxy', 712350, 244295), ('ipad', 573823, 26964), ('tv', 405252, 787604), ('máquina de café', 718654, 867660), ('kindle', 531580, 78830), ('geladeira', 973139, 710331), ('adega', 892292, 646016), ('notebook dell', 422760, 694913), ('notebook hp', 154753, 539704), ('notebook asus', 887061, 324831), ('microsoft surface', 438508, 667179), ('webcam', 237467, 295633), ('caixa de som', 489705, 725316), ('microfone', 328311, 644622), ('câmera canon', 591120, 994303)]\n"
     ]
    }
   ],
   "source": [
    "produtos = ['iphone', 'galaxy', 'ipad', 'tv', 'máquina de café', 'kindle', 'geladeira', 'adega', 'notebook dell', 'notebook hp', 'notebook asus', 'microsoft surface', 'webcam', 'caixa de som', 'microfone', 'câmera canon']\n",
    "vendas2019 = [558147,712350,573823,405252,718654,531580,973139,892292,422760,154753,887061,438508,237467,489705,328311,591120]\n",
    "vendas2020 = [951642,244295,26964,787604,867660,78830,710331,646016,694913,539704,324831,667179,295633,725316,644622,994303]\n",
    "\n",
    "#seu código aqui\n",
    "zipado = zip(produtos,vendas2019,vendas2020)\n",
    "dicionario = list(zipado)\n",
    "print(dicionario)\n",
    "\n"
   ]
  },
  {
   "cell_type": "code",
   "execution_count": 15,
   "metadata": {},
   "outputs": [
    {
     "ename": "ValueError",
     "evalue": "dictionary update sequence element #0 has length 3; 2 is required",
     "output_type": "error",
     "traceback": [
      "\u001b[1;31m---------------------------------------------------------------------------\u001b[0m",
      "\u001b[1;31mValueError\u001b[0m                                Traceback (most recent call last)",
      "\u001b[1;32m<ipython-input-15-434b8da6ece5>\u001b[0m in \u001b[0;36m<module>\u001b[1;34m\u001b[0m\n\u001b[0;32m      3\u001b[0m \u001b[0mvendas2020\u001b[0m \u001b[1;33m=\u001b[0m \u001b[1;33m[\u001b[0m\u001b[1;36m951642\u001b[0m\u001b[1;33m,\u001b[0m\u001b[1;36m244295\u001b[0m\u001b[1;33m,\u001b[0m\u001b[1;36m26964\u001b[0m\u001b[1;33m,\u001b[0m\u001b[1;36m787604\u001b[0m\u001b[1;33m,\u001b[0m\u001b[1;36m867660\u001b[0m\u001b[1;33m,\u001b[0m\u001b[1;36m78830\u001b[0m\u001b[1;33m,\u001b[0m\u001b[1;36m710331\u001b[0m\u001b[1;33m,\u001b[0m\u001b[1;36m646016\u001b[0m\u001b[1;33m,\u001b[0m\u001b[1;36m694913\u001b[0m\u001b[1;33m,\u001b[0m\u001b[1;36m539704\u001b[0m\u001b[1;33m,\u001b[0m\u001b[1;36m324831\u001b[0m\u001b[1;33m,\u001b[0m\u001b[1;36m667179\u001b[0m\u001b[1;33m,\u001b[0m\u001b[1;36m295633\u001b[0m\u001b[1;33m,\u001b[0m\u001b[1;36m725316\u001b[0m\u001b[1;33m,\u001b[0m\u001b[1;36m644622\u001b[0m\u001b[1;33m,\u001b[0m\u001b[1;36m994303\u001b[0m\u001b[1;33m]\u001b[0m\u001b[1;33m\u001b[0m\u001b[1;33m\u001b[0m\u001b[0m\n\u001b[0;32m      4\u001b[0m \u001b[1;33m\u001b[0m\u001b[0m\n\u001b[1;32m----> 5\u001b[1;33m \u001b[0mdicionario\u001b[0m \u001b[1;33m=\u001b[0m \u001b[0mdict\u001b[0m\u001b[1;33m(\u001b[0m\u001b[0mzip\u001b[0m\u001b[1;33m(\u001b[0m\u001b[0mprodutos\u001b[0m\u001b[1;33m,\u001b[0m\u001b[0mvendas2019\u001b[0m\u001b[1;33m,\u001b[0m\u001b[0mvendas2020\u001b[0m\u001b[1;33m)\u001b[0m\u001b[1;33m)\u001b[0m\u001b[1;33m\u001b[0m\u001b[1;33m\u001b[0m\u001b[0m\n\u001b[0m\u001b[0;32m      6\u001b[0m \u001b[0mprint\u001b[0m\u001b[1;33m(\u001b[0m\u001b[0mdicionario\u001b[0m\u001b[1;33m)\u001b[0m\u001b[1;33m\u001b[0m\u001b[1;33m\u001b[0m\u001b[0m\n",
      "\u001b[1;31mValueError\u001b[0m: dictionary update sequence element #0 has length 3; 2 is required"
     ]
    }
   ],
   "source": [
    "produtos = ['iphone', 'galaxy', 'ipad', 'tv', 'máquina de café', 'kindle', 'geladeira', 'adega', 'notebook dell', 'notebook hp', 'notebook asus', 'microsoft surface', 'webcam', 'caixa de som', 'microfone', 'câmera canon']\n",
    "vendas2019 = [558147,712350,573823,405252,718654,531580,973139,892292,422760,154753,887061,438508,237467,489705,328311,591120]\n",
    "vendas2020 = [951642,244295,26964,787604,867660,78830,710331,646016,694913,539704,324831,667179,295633,725316,644622,994303]\n",
    "\n",
    "dicionario = dict(zip(produtos,vendas2019,vendas2020))\n",
    "print(dicionario)"
   ]
  },
  {
   "cell_type": "code",
   "execution_count": 31,
   "metadata": {},
   "outputs": [
    {
     "name": "stdout",
     "output_type": "stream",
     "text": [
      "{'iphone': (558147, 951642), 'galaxy': (712350, 244295), 'ipad': (573823, 26964), 'tv': (405252, 787604), 'máquina de café': (718654, 867660), 'kindle': (531580, 78830), 'geladeira': (973139, 710331), 'adega': (892292, 646016), 'notebook dell': (422760, 694913), 'notebook hp': (154753, 539704), 'notebook asus': (887061, 324831), 'microsoft surface': (438508, 667179), 'webcam': (237467, 295633), 'caixa de som': (489705, 725316), 'microfone': (328311, 644622), 'câmera canon': (591120, 994303)}\n",
      "iphone vendasprodutos[iphone]\n",
      "galaxy vendasprodutos[galaxy]\n",
      "ipad vendasprodutos[ipad]\n",
      "tv vendasprodutos[tv]\n",
      "máquina de café vendasprodutos[máquina de café]\n",
      "kindle vendasprodutos[kindle]\n",
      "geladeira vendasprodutos[geladeira]\n",
      "adega vendasprodutos[adega]\n",
      "notebook dell vendasprodutos[notebook dell]\n",
      "notebook hp vendasprodutos[notebook hp]\n",
      "notebook asus vendasprodutos[notebook asus]\n",
      "microsoft surface vendasprodutos[microsoft surface]\n",
      "webcam vendasprodutos[webcam]\n",
      "caixa de som vendasprodutos[caixa de som]\n",
      "microfone vendasprodutos[microfone]\n",
      "câmera canon vendasprodutos[câmera canon]\n",
      "============\n",
      "iphone: (558147, 951642)\n",
      "galaxy: (712350, 244295)\n",
      "ipad: (573823, 26964)\n",
      "tv: (405252, 787604)\n",
      "máquina de café: (718654, 867660)\n",
      "kindle: (531580, 78830)\n",
      "geladeira: (973139, 710331)\n",
      "adega: (892292, 646016)\n",
      "notebook dell: (422760, 694913)\n",
      "notebook hp: (154753, 539704)\n",
      "notebook asus: (887061, 324831)\n",
      "microsoft surface: (438508, 667179)\n",
      "webcam: (237467, 295633)\n",
      "caixa de som: (489705, 725316)\n",
      "microfone: (328311, 644622)\n",
      "câmera canon: (591120, 994303)\n",
      "============\n",
      "iphone: (558147, 951642)\n",
      "galaxy: (712350, 244295)\n",
      "ipad: (573823, 26964)\n",
      "tv: (405252, 787604)\n",
      "máquina de café: (718654, 867660)\n",
      "kindle: (531580, 78830)\n",
      "geladeira: (973139, 710331)\n",
      "adega: (892292, 646016)\n",
      "notebook dell: (422760, 694913)\n",
      "notebook hp: (154753, 539704)\n",
      "notebook asus: (887061, 324831)\n",
      "microsoft surface: (438508, 667179)\n",
      "webcam: (237467, 295633)\n",
      "caixa de som: (489705, 725316)\n",
      "microfone: (328311, 644622)\n",
      "câmera canon: (591120, 994303)\n"
     ]
    }
   ],
   "source": [
    "produtos = ['iphone', 'galaxy', 'ipad', 'tv', 'máquina de café', 'kindle', 'geladeira', 'adega', 'notebook dell', 'notebook hp', 'notebook asus', 'microsoft surface', 'webcam', 'caixa de som', 'microfone', 'câmera canon']\n",
    "vendas2019 = [558147,712350,573823,405252,718654,531580,973139,892292,422760,154753,887061,438508,237467,489705,328311,591120]\n",
    "vendas2020 = [951642,244295,26964,787604,867660,78830,710331,646016,694913,539704,324831,667179,295633,725316,644622,994303]\n",
    "\n",
    "vendas = list(zip(vendas2019,vendas2020))\n",
    "vendasprodutos = dict(zip(produtos,vendas))\n",
    "print(vendasprodutos)\n",
    "for i in vendasprodutos:\n",
    "    print (f'{i} vendasprodutos[{i}]')\n",
    "#     print ('{}: {}'.format(i, vendasprodutos[i]))\n",
    "print('============')\n",
    "for i in vendasprodutos:\n",
    "#     print (f'{i} vendasprodutos[{i}]')\n",
    "    print ('{}: {}'.format(i, vendasprodutos[i]))\n",
    "print('============')\n",
    "for i in vendasprodutos:\n",
    "    print (f'{i}: {vendasprodutos[i]}')\n",
    "#     print ('{}: {}'.format(i, vendasprodutos[i]))\n",
    "\n"
   ]
  }
 ],
 "metadata": {
  "kernelspec": {
   "display_name": "Python 3",
   "language": "python",
   "name": "python3"
  },
  "language_info": {
   "codemirror_mode": {
    "name": "ipython",
    "version": 3
   },
   "file_extension": ".py",
   "mimetype": "text/x-python",
   "name": "python",
   "nbconvert_exporter": "python",
   "pygments_lexer": "ipython3",
   "version": "3.8.8"
  }
 },
 "nbformat": 4,
 "nbformat_minor": 4
}
