{
 "cells": [
  {
   "cell_type": "markdown",
   "metadata": {},
   "source": [
    "# Exercícios\n",
    "\n",
    "## 1. Criando um Registro de Hóspedes\n",
    "\n",
    "Digamos que você está criando o sistema para registrar a chegada de hóspedes em um hotel. No hotel, os hóspedes podem ter quartos com 1, 2, 3 e 4 pessoas. Seu sistema deve conseguir:\n",
    "\n",
    "1. Identificar quantas pessoas o hóspede que acabou de chegar vai ter no quarto (perguntando por meio de input)\n",
    "2. De acordo com a quantidade de pessoas do hóspede, ele deve fazer um for para perguntar o cpf e o nome de cada pessoa, a fim de registrá-la no quarto (2 inputs para cada pessoa, 1 para o cpf e outro para o nome)\n",
    "3. O seu programa então deve gerar uma lista com todas as pessoas que ficarão no quarto em que cada item dessa lista é o nome da pessoa e o cpf da pessoa, assim:"
   ]
  },
  {
   "cell_type": "raw",
   "metadata": {},
   "source": [
    "quarto = [\n",
    "    ['João', 'cpf:00000000000'],\n",
    "    ['Julia', 'cpf:11111111111'],\n",
    "    ['Marcus', 'cpf:22222222222'],\n",
    "    ['Maria', 'cpf:33333333333'],\n",
    "]"
   ]
  },
  {
   "cell_type": "markdown",
   "metadata": {},
   "source": [
    "- Para simplificar, não vamos nos preocupar com possibilidades de \"tentar colocar mais de 1 hóspede, digitar o cpf errado, etc. Nosso objetivo é treinar a criação de uma rotina de cadastro"
   ]
  },
  {
   "cell_type": "code",
   "execution_count": 7,
   "metadata": {},
   "outputs": [
    {
     "name": "stdout",
     "output_type": "stream",
     "text": [
      "0\n",
      "1\n",
      "2\n",
      "3\n"
     ]
    }
   ],
   "source": [
    "for x in range(4):\n",
    "    print (x)"
   ]
  },
  {
   "cell_type": "code",
   "execution_count": 17,
   "metadata": {},
   "outputs": [
    {
     "name": "stdout",
     "output_type": "stream",
     "text": [
      "quantas pessoas?2\n",
      "nome da 1ª pessoa? issao\n",
      "CPF da 1ª pessoa? 1234\n",
      "issao\n",
      "1234\n",
      "[['issao', '1234']]\n",
      "nome da 2ª pessoa? adriana\n",
      "CPF da 2ª pessoa? 0000\n",
      "adriana\n",
      "0000\n",
      "[['issao', '1234'], ['adriana', '0000']]\n"
     ]
    }
   ],
   "source": [
    "#seu código aqui\n",
    "#print(f'I am {height} feet tall and weigh {weight+1} pounds. I was born {birthday}')\n",
    "quarto = []\n",
    "hospede = []\n",
    "\n",
    "qt_hospede = int(input('quantas pessoas?'))\n",
    "for x in range(qt_hospede):\n",
    "    nome = input(f'nome da {x+1}ª pessoa? ')\n",
    "    cpf = input(f'CPF da {x+1}ª pessoa? ')\n",
    "    hospede.extend([[nome,cpf]])\n",
    "    print (nome)\n",
    "    print (cpf)\n",
    "    print (hospede)\n",
    "    "
   ]
  },
  {
   "cell_type": "markdown",
   "metadata": {},
   "source": [
    "## 2. Análise de Vendas\n",
    "\n",
    "Nesse exercício vamos fazer uma \"análise simples\" de atingimento de Meta.\n",
    "\n",
    "Temos uma lista com os vendedores e os valores de vendas e queremos identificar (printar) quais os vendedores que bateram a meta e qual foi o valor que eles venderam."
   ]
  },
  {
   "cell_type": "code",
   "execution_count": 29,
   "metadata": {},
   "outputs": [
    {
     "name": "stdout",
     "output_type": "stream",
     "text": [
      "0,['João', 15000]\n",
      "1,['Julia', 27000]\n",
      "4,['Ana', 10300]\n"
     ]
    }
   ],
   "source": [
    "meta = 10000\n",
    "vendas = [\n",
    "    ['João', 15000],\n",
    "    ['Julia', 27000],\n",
    "    ['Marcus', 9900],\n",
    "    ['Maria', 3750],\n",
    "    ['Ana', 10300],\n",
    "    ['Alon', 7870],\n",
    "]\n",
    "#seu código aqui\n",
    "for i,venda in enumerate(vendas):\n",
    "    if vendas[i][1] >= meta:\n",
    "        print (f'{i},{venda}')"
   ]
  },
  {
   "cell_type": "code",
   "execution_count": 26,
   "metadata": {},
   "outputs": [
    {
     "name": "stdout",
     "output_type": "stream",
     "text": [
      "Marcus\n"
     ]
    }
   ],
   "source": [
    "print (vendas[2][0])"
   ]
  },
  {
   "cell_type": "markdown",
   "metadata": {},
   "source": [
    "## 3. Comparação com Ano Anterior\n",
    "\n",
    "Digamos que você está analisando as vendas de produtos de um ecommerce e quer identificar quais produtos tiveram no ano de 2020 mais vendas do que no ano de 2019, para reportar isso para a diretoria.\n",
    "\n",
    "Sua resposta pode ser um print de cada produto, qual foi a venda de 2019, a venda de 2020 e o % de crescimento de 2020 para 2019.\n",
    "\n",
    "Lembrando, para calcular o % de crescimento de um produto de um ano para o outro, podemos fazer: (vendas_produto2020/vendas_produto2019 - 1)\n",
    "\n",
    "Dica: lembre do enumerate, ele pode facilitar seu \"for\""
   ]
  },
  {
   "cell_type": "code",
   "execution_count": 39,
   "metadata": {},
   "outputs": [
    {
     "name": "stdout",
     "output_type": "stream",
     "text": [
      "0, iphone venda em 2019:558147, venda em 2020951642; crescimento: 70.5%\n",
      "3, tv venda em 2019:405252, venda em 2020787604; crescimento: 94.3%\n",
      "4, máquina de café venda em 2019:718654, venda em 2020867660; crescimento: 20.7%\n",
      "8, notebook dell venda em 2019:422760, venda em 2020694913; crescimento: 64.4%\n",
      "9, notebook hp venda em 2019:154753, venda em 2020539704; crescimento: 248.8%\n",
      "11, microsoft surface venda em 2019:438508, venda em 2020667179; crescimento: 52.1%\n",
      "12, webcam venda em 2019:237467, venda em 2020295633; crescimento: 24.5%\n",
      "13, caixa de som venda em 2019:489705, venda em 2020725316; crescimento: 48.1%\n",
      "14, microfone venda em 2019:328311, venda em 2020644622; crescimento: 96.3%\n",
      "15, câmera canon venda em 2019:591120, venda em 2020994303; crescimento: 68.2%\n"
     ]
    }
   ],
   "source": [
    "produtos = ['iphone', 'galaxy', 'ipad', 'tv', 'máquina de café', 'kindle', 'geladeira', 'adega', 'notebook dell', 'notebook hp', 'notebook asus', 'microsoft surface', 'webcam', 'caixa de som', 'microfone', 'câmera canon']\n",
    "vendas2019 = [558147,712350,573823,405252,718654,531580,973139,892292,422760,154753,887061,438508,237467,489705,328311,591120]\n",
    "vendas2020 = [951642,244295,26964,787604,867660,78830,710331,646016,694913,539704,324831,667179,295633,725316,644622,994303]\n",
    "#seu código aqui\n",
    "\n",
    "for i, produto in enumerate(produtos):\n",
    "    if vendas2020[i] > vendas2019[i]:\n",
    "        print(f'{i}, {produto} venda em 2019:{vendas2019[i]}, venda em 2020{vendas2020[i]}; crescimento: {(vendas2020[i]/vendas2019[i] - 1):.1%}')"
   ]
  },
  {
   "cell_type": "code",
   "execution_count": 49,
   "metadata": {},
   "outputs": [
    {
     "name": "stdout",
     "output_type": "stream",
     "text": [
      "|      PRODUTO      |  VENDAS 2019  |  VENDAS 2020  |      CRESCIMENTO       |\n",
      "==============================================================================\n",
      "|      iphone       |    558147     |    951642     |         70.50%         |\n",
      "|        tv         |    405252     |    787604     |         94.35%         |\n",
      "|  máquina de café  |    718654     |    867660     |         20.73%         |\n",
      "|   notebook dell   |    422760     |    694913     |         64.38%         |\n",
      "|    notebook hp    |    154753     |    539704     |        248.75%         |\n",
      "| microsoft surface |    438508     |    667179     |         52.15%         |\n",
      "|      webcam       |    237467     |    295633     |         24.49%         |\n",
      "|   caixa de som    |    489705     |    725316     |         48.11%         |\n",
      "|     microfone     |    328311     |    644622     |         96.34%         |\n",
      "|   câmera canon    |    591120     |    994303     |         68.21%         |\n"
     ]
    }
   ],
   "source": [
    "produtos = ['iphone', 'galaxy', 'ipad', 'tv', 'máquina de café', 'kindle', 'geladeira', 'adega', 'notebook dell', 'notebook hp', 'notebook asus', 'microsoft surface', 'webcam', 'caixa de som', 'microfone', 'câmera canon']\n",
    "vendas2019 = [558147,712350,573823,405252,718654,531580,973139,892292,422760,154753,887061,438508,237467,489705,328311,591120]\n",
    "vendas2020 = [951642,244295,26964,787604,867660,78830,710331,646016,694913,539704,324831,667179,295633,725316,644622,994303]\n",
    "#seu código aqui\n",
    "print('|      PRODUTO      |  VENDAS 2019  |  VENDAS 2020  |      CRESCIMENTO       |')\n",
    "print('==============================================================================')\n",
    "for i, produto in enumerate(produtos):\n",
    "    crescimento = vendas2020[i] / vendas2019[i] - 1\n",
    "    if crescimento > 0:\n",
    "        texto = '|{:^19}|{:^15}|{:^15}|{:^24.2%}|'\n",
    "        print(texto.format(produto, vendas2019[i], vendas2020[i], crescimento))"
   ]
  },
  {
   "cell_type": "code",
   "execution_count": 52,
   "metadata": {},
   "outputs": [
    {
     "name": "stdout",
     "output_type": "stream",
     "text": [
      "|      PRODUTO      |  VENDAS 2019  |  VENDAS 2020  |      CRESCIMENTO       |\n",
      "==============================================================================\n",
      "|      iphone       |    558147     |    951642     |         70.50%         |\n",
      "|        tv         |    405252     |    787604     |         94.35%         |\n",
      "|  máquina de café  |    718654     |    867660     |         20.73%         |\n",
      "|   notebook dell   |    422760     |    694913     |         64.38%         |\n",
      "|    notebook hp    |    154753     |    539704     |        248.75%         |\n",
      "| microsoft surface |    438508     |    667179     |         52.15%         |\n",
      "|      webcam       |    237467     |    295633     |         24.49%         |\n",
      "|   caixa de som    |    489705     |    725316     |         48.11%         |\n",
      "|     microfone     |    328311     |    644622     |         96.34%         |\n",
      "|   câmera canon    |    591120     |    994303     |         68.21%         |\n"
     ]
    }
   ],
   "source": [
    "produtos = ['iphone', 'galaxy', 'ipad', 'tv', 'máquina de café', 'kindle', 'geladeira', 'adega', 'notebook dell', 'notebook hp', 'notebook asus', 'microsoft surface', 'webcam', 'caixa de som', 'microfone', 'câmera canon']\n",
    "vendas2019 = [558147,712350,573823,405252,718654,531580,973139,892292,422760,154753,887061,438508,237467,489705,328311,591120]\n",
    "vendas2020 = [951642,244295,26964,787604,867660,78830,710331,646016,694913,539704,324831,667179,295633,725316,644622,994303]\n",
    "#seu código aqui\n",
    "print('|      PRODUTO      |  VENDAS 2019  |  VENDAS 2020  |      CRESCIMENTO       |')\n",
    "print('==============================================================================')\n",
    "for i, produto in enumerate(produtos):\n",
    "    crescimento = vendas2020[i] / vendas2019[i] - 1\n",
    "    if crescimento > 0:\n",
    "        #texto = '|{:^19}|{:^15}|{:^15}|{:^24.2%}|'\n",
    "        #print(texto.format(produto, vendas2019[i], vendas2020[i], crescimento))\n",
    "        print(f'|{produto:^19}|{vendas2019[i]:^15}|{vendas2020[i]:^15}|{crescimento:^24.2%}|')"
   ]
  },
  {
   "cell_type": "code",
   "execution_count": 53,
   "metadata": {},
   "outputs": [
    {
     "data": {
      "text/html": [
       "<div>\n",
       "<style scoped>\n",
       "    .dataframe tbody tr th:only-of-type {\n",
       "        vertical-align: middle;\n",
       "    }\n",
       "\n",
       "    .dataframe tbody tr th {\n",
       "        vertical-align: top;\n",
       "    }\n",
       "\n",
       "    .dataframe thead th {\n",
       "        text-align: right;\n",
       "    }\n",
       "</style>\n",
       "<table border=\"1\" class=\"dataframe\">\n",
       "  <thead>\n",
       "    <tr style=\"text-align: right;\">\n",
       "      <th></th>\n",
       "      <th>Produto</th>\n",
       "      <th>Vendas 2019 (R$)</th>\n",
       "      <th>Vendas 2020 (R$)</th>\n",
       "      <th>Variação %</th>\n",
       "    </tr>\n",
       "  </thead>\n",
       "  <tbody>\n",
       "    <tr>\n",
       "      <th>2</th>\n",
       "      <td>máquina de café</td>\n",
       "      <td>718.654</td>\n",
       "      <td>867.660</td>\n",
       "      <td>20.70%</td>\n",
       "    </tr>\n",
       "    <tr>\n",
       "      <th>6</th>\n",
       "      <td>webcam</td>\n",
       "      <td>237.467</td>\n",
       "      <td>295.633</td>\n",
       "      <td>24.50%</td>\n",
       "    </tr>\n",
       "    <tr>\n",
       "      <th>7</th>\n",
       "      <td>caixa de som</td>\n",
       "      <td>489.705</td>\n",
       "      <td>725.316</td>\n",
       "      <td>48.10%</td>\n",
       "    </tr>\n",
       "    <tr>\n",
       "      <th>5</th>\n",
       "      <td>microsoft surface</td>\n",
       "      <td>438.508</td>\n",
       "      <td>667.179</td>\n",
       "      <td>52.10%</td>\n",
       "    </tr>\n",
       "    <tr>\n",
       "      <th>3</th>\n",
       "      <td>notebook dell</td>\n",
       "      <td>422.760</td>\n",
       "      <td>694.913</td>\n",
       "      <td>64.40%</td>\n",
       "    </tr>\n",
       "    <tr>\n",
       "      <th>9</th>\n",
       "      <td>câmera canon</td>\n",
       "      <td>591.120</td>\n",
       "      <td>994.303</td>\n",
       "      <td>68.20%</td>\n",
       "    </tr>\n",
       "    <tr>\n",
       "      <th>0</th>\n",
       "      <td>iphone</td>\n",
       "      <td>558.147</td>\n",
       "      <td>951.642</td>\n",
       "      <td>70.50%</td>\n",
       "    </tr>\n",
       "    <tr>\n",
       "      <th>1</th>\n",
       "      <td>tv</td>\n",
       "      <td>405.252</td>\n",
       "      <td>787.604</td>\n",
       "      <td>94.30%</td>\n",
       "    </tr>\n",
       "    <tr>\n",
       "      <th>8</th>\n",
       "      <td>microfone</td>\n",
       "      <td>328.311</td>\n",
       "      <td>644.622</td>\n",
       "      <td>96.30%</td>\n",
       "    </tr>\n",
       "    <tr>\n",
       "      <th>4</th>\n",
       "      <td>notebook hp</td>\n",
       "      <td>154.753</td>\n",
       "      <td>539.704</td>\n",
       "      <td>249.00%</td>\n",
       "    </tr>\n",
       "  </tbody>\n",
       "</table>\n",
       "</div>"
      ],
      "text/plain": [
       "             Produto Vendas 2019 (R$) Vendas 2020 (R$)  Variação %\n",
       "2    máquina de café          718.654          867.660      20.70%\n",
       "6             webcam          237.467          295.633      24.50%\n",
       "7       caixa de som          489.705          725.316      48.10%\n",
       "5  microsoft surface          438.508          667.179      52.10%\n",
       "3      notebook dell          422.760          694.913      64.40%\n",
       "9       câmera canon          591.120          994.303      68.20%\n",
       "0             iphone          558.147          951.642      70.50%\n",
       "1                 tv          405.252          787.604      94.30%\n",
       "8          microfone          328.311          644.622      96.30%\n",
       "4        notebook hp          154.753          539.704     249.00%"
      ]
     },
     "execution_count": 53,
     "metadata": {},
     "output_type": "execute_result"
    }
   ],
   "source": [
    "produtos = ['iphone', 'galaxy', 'ipad', 'tv', 'máquina de café', 'kindle', 'geladeira', 'adega', 'notebook dell', 'notebook hp', 'notebook asus', 'microsoft surface', 'webcam', 'caixa de som', 'microfone', 'câmera canon']\n",
    "vendas2019 = [558147,712350,573823,405252,718654,531580,973139,892292,422760,154753,887061,438508,237467,489705,328311,591120]\n",
    "vendas2020 = [951642,244295,26964,787604,867660,78830,710331,646016,694913,539704,324831,667179,295633,725316,644622,994303]\n",
    "\n",
    "import pandas as pd\n",
    "\n",
    "lista = []\n",
    "\n",
    "for i,produto in enumerate(produtos):\n",
    "  if vendas2020[i] > vendas2019[i]:\n",
    "    variacao = float((vendas2020[i]/vendas2019[i])-1)\n",
    "    registros = [f'{produto}',f'{vendas2019[i]:_}'.replace('_','.'), f'{vendas2020[i]:_}'.replace('_','.'), f'{variacao:.3}']\n",
    "    lista.append(registros)\n",
    "\n",
    "df = pd.DataFrame(lista, columns=['Produto', 'Vendas 2019 (R$)', 'Vendas 2020 (R$)', 'Variação %'])\n",
    "df['Variação %'] = df['Variação %'].apply(pd.to_numeric)\n",
    "pd.options.display.float_format = '{:.2%}'.format\n",
    "df = df.sort_values(by=['Variação %'])\n",
    "df"
   ]
  }
 ],
 "metadata": {
  "kernelspec": {
   "display_name": "Python 3",
   "language": "python",
   "name": "python3"
  },
  "language_info": {
   "codemirror_mode": {
    "name": "ipython",
    "version": 3
   },
   "file_extension": ".py",
   "mimetype": "text/x-python",
   "name": "python",
   "nbconvert_exporter": "python",
   "pygments_lexer": "ipython3",
   "version": "3.8.8"
  }
 },
 "nbformat": 4,
 "nbformat_minor": 4
}
