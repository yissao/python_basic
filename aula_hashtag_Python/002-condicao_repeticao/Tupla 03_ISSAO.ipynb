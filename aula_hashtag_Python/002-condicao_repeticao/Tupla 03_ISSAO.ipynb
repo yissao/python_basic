{
 "cells": [
  {
   "cell_type": "markdown",
   "metadata": {},
   "source": [
    "# Aplicação de Tupla - Lista de Tuplas\n",
    "\n",
    "### Estrutura:\n",
    "\n",
    "Além de casos como o do enumerate, em que usamos uma função para transformar itens em tuplas porque isso ajuda o nosso código, temos também listas de tuplas como algo comum dentro do Python."
   ]
  },
  {
   "cell_type": "raw",
   "metadata": {},
   "source": [
    "lista = [\n",
    "    tupla1,\n",
    "    tupla2,\n",
    "    tupla3,\n",
    "    ]\n",
    "    \n",
    "ou seja\n",
    "\n",
    "lista = [\n",
    "    (valor1, valor2, valor3),\n",
    "    (valor4, valor5, valor6),\n",
    "    (valor7, valor8, valor9),\n",
    "    ]"
   ]
  },
  {
   "cell_type": "markdown",
   "metadata": {},
   "source": [
    "### Exemplo:\n",
    "\n",
    "Digamos que você está analisando as vendas do Banco de Dados de um e-commerce.\n",
    "\n",
    "Em um determinado dia, você extraiu as vendas do Banco de Dados e elas vieram nesse formato:"
   ]
  },
  {
   "cell_type": "code",
   "execution_count": 22,
   "metadata": {},
   "outputs": [],
   "source": [
    "vendas = [\n",
    "    ('20/08/2020', 'iphone x', 'azul', '128gb', 350, 4000),\n",
    "    ('20/08/2020', 'iphone x', 'prata', '128gb', 1500, 4000),\n",
    "    ('20/08/2020', 'ipad', 'prata', '256gb', 127, 6000),\n",
    "    ('20/08/2020', 'ipad', 'prata', '128gb', 981, 5000),\n",
    "    ('21/08/2020', 'iphone x', 'azul', '128gb', 397, 4000),\n",
    "    ('21/08/2020', 'iphone x', 'prata', '128gb', 1017, 4000),\n",
    "    ('21/08/2020', 'ipad', 'prata', '256gb', 50, 6000),\n",
    "    ('21/08/2020', 'ipad', 'prata', '128gb', 4000, 5000),\n",
    "]"
   ]
  },
  {
   "cell_type": "markdown",
   "metadata": {},
   "source": [
    "- Qual foi o faturamento de IPhone no dia 20/08/2020?\n",
    "- Qual foi o produto mais vendido (em unidades) no dia 21/08/2020?"
   ]
  },
  {
   "cell_type": "code",
   "execution_count": 4,
   "metadata": {},
   "outputs": [
    {
     "name": "stdout",
     "output_type": "stream",
     "text": [
      "('20/08/2020', 'iphone x', 'azul', '128gb', 350, 4000)\n",
      "('20/08/2020', 'iphone x', 'prata', '128gb', 1500, 4000)\n",
      "('20/08/2020', 'ipad', 'prata', '256gb', 127, 6000)\n",
      "('20/08/2020', 'ipad', 'prata', '128gb', 981, 5000)\n",
      "('21/08/2020', 'iphone x', 'azul', '128gb', 397, 4000)\n",
      "('21/08/2020', 'iphone x', 'prata', '128gb', 1017, 4000)\n",
      "('21/08/2020', 'ipad', 'prata', '256gb', 50, 6000)\n",
      "('21/08/2020', 'ipad', 'prata', '128gb', 4000, 5000)\n"
     ]
    }
   ],
   "source": [
    "for i in vendas:\n",
    "    print (i)\n",
    "    "
   ]
  },
  {
   "cell_type": "code",
   "execution_count": 6,
   "metadata": {},
   "outputs": [
    {
     "name": "stdout",
     "output_type": "stream",
     "text": [
      "('20/08/2020', 'iphone x', 'azul', '128gb', 350, 4000)\n",
      "('20/08/2020', 'iphone x', 'prata', '128gb', 1500, 4000)\n",
      "('20/08/2020', 'ipad', 'prata', '256gb', 127, 6000)\n",
      "('20/08/2020', 'ipad', 'prata', '128gb', 981, 5000)\n",
      "('21/08/2020', 'iphone x', 'azul', '128gb', 397, 4000)\n",
      "('21/08/2020', 'iphone x', 'prata', '128gb', 1017, 4000)\n",
      "('21/08/2020', 'ipad', 'prata', '256gb', 50, 6000)\n",
      "('21/08/2020', 'ipad', 'prata', '128gb', 4000, 5000)\n"
     ]
    }
   ],
   "source": [
    "for item in vendas:\n",
    "    print (item)"
   ]
  },
  {
   "cell_type": "code",
   "execution_count": 8,
   "metadata": {},
   "outputs": [
    {
     "name": "stdout",
     "output_type": "stream",
     "text": [
      "iphone x\n",
      "iphone x\n",
      "iphone x\n",
      "iphone x\n"
     ]
    }
   ],
   "source": [
    "for item in vendas:\n",
    "    data, produto, cor, capacidade, qtd, v_unitario = item\n",
    "    if produto == 'iphone x':\n",
    "        print (produto)"
   ]
  },
  {
   "cell_type": "code",
   "execution_count": 14,
   "metadata": {},
   "outputs": [
    {
     "name": "stdout",
     "output_type": "stream",
     "text": [
      "7400000\n"
     ]
    }
   ],
   "source": [
    "faturamento = 0\n",
    "for item in vendas:\n",
    "    data, produto, cor, capacidade, qtd, v_unitario = item\n",
    "    if produto == 'iphone x' and data == '20/08/2020':\n",
    "        faturamento += qtd * v_unitario\n",
    "print (faturamento)"
   ]
  },
  {
   "cell_type": "code",
   "execution_count": 17,
   "metadata": {},
   "outputs": [
    {
     "name": "stdout",
     "output_type": "stream",
     "text": [
      "iphone x, 397\n",
      "iphone x, 1017\n",
      "ipad, 4000\n"
     ]
    }
   ],
   "source": [
    "# - Qual foi o produto mais vendido (em unidades) no dia 21/08/2020?\n",
    "maior = 0\n",
    "for data, produto, cor, capacidade, qtd, v_unitario in vendas:\n",
    "    if data == '21/08/2020':\n",
    "        if maior < qtd:\n",
    "            maior = qtd\n",
    "            print (f'{produto}, {qtd}')\n"
   ]
  },
  {
   "cell_type": "code",
   "execution_count": 44,
   "metadata": {},
   "outputs": [
    {
     "name": "stdout",
     "output_type": "stream",
     "text": [
      "mais vendido: ('21/08/2020', 'ipad', 'prata', '128gb', 4000, 5000)\n"
     ]
    }
   ],
   "source": [
    "maior = 0\n",
    "item = 0\n",
    "for i, item in enumerate(vendas):\n",
    "#     data, produto, cor, capacidade, qtd, v_unitario = item\n",
    "    if data == '21/08/2020':\n",
    "        if maior > vendas[i][4]:\n",
    "            maior = maior\n",
    "        else:\n",
    "            maior = vendas[i][4]\n",
    "            item = i\n",
    "print(f'mais vendido: {vendas[item]}')\n",
    "    \n",
    "    "
   ]
  }
 ],
 "metadata": {
  "kernelspec": {
   "display_name": "Python 3",
   "language": "python",
   "name": "python3"
  },
  "language_info": {
   "codemirror_mode": {
    "name": "ipython",
    "version": 3
   },
   "file_extension": ".py",
   "mimetype": "text/x-python",
   "name": "python",
   "nbconvert_exporter": "python",
   "pygments_lexer": "ipython3",
   "version": "3.8.8"
  }
 },
 "nbformat": 4,
 "nbformat_minor": 4
}
