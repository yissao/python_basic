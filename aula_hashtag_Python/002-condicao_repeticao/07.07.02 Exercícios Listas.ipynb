{
 "cells": [
  {
   "cell_type": "markdown",
   "metadata": {},
   "source": [
    "# Exercícios\n",
    "\n",
    "## 1. Faturamento do Melhor e do Pior Mês do Ano\n",
    "\n",
    "Qual foi o valor de vendas do melhor mês do Ano?\n",
    "E valor do pior mês do ano?"
   ]
  },
  {
   "cell_type": "code",
   "execution_count": 37,
   "metadata": {},
   "outputs": [
    {
     "name": "stdout",
     "output_type": "stream",
     "text": [
      "[25000, 29000, 22200, 17750, 15870, 19900, 19850, 20120, 17540, 15555, 49051, 9650]\n",
      "melhor valor: 49051 de nov\n",
      "pior valor: 9650 de dez\n"
     ]
    }
   ],
   "source": [
    "meses = ['jan', 'fev', 'mar', 'abr', 'mai', 'jun', 'jul', 'ago', 'set', 'out', 'nov', 'dez']\n",
    "vendas_1sem = [25000, 29000, 22200, 17750, 15870, 19900]\n",
    "vendas_2sem = [19850, 20120, 17540, 15555, 49051, 9650]\n",
    "vendas_1sem.extend(vendas_2sem)\n",
    "print (vendas_1sem)\n",
    "melhor = max(vendas_1sem)\n",
    "i_melhor = vendas_1sem.index(melhor)\n",
    "pior = min(vendas_1sem)\n",
    "i_pior = vendas_1sem.index(pior)\n",
    "print ('melhor valor: {} de {}'.format(melhor,meses[i_melhor]))\n",
    "print ('pior valor: {} de {}'.format(pior,meses[i_pior]))\n"
   ]
  },
  {
   "cell_type": "markdown",
   "metadata": {},
   "source": [
    "## 2. Continuação\n",
    "\n",
    "Agora relacione as duas listas para printar 'O melhor mês do ano foi {} com {} vendas' e o mesmo para o pior mês do ano.\n",
    "\n",
    "Calcule também o faturamento total do Ano e quanto que o melhor mês representou do faturamento total.\n",
    "\n",
    "Obs: Para o faturamento total, pode usar a função sum(lista) que soma todos os itens de uma lista"
   ]
  },
  {
   "cell_type": "code",
   "execution_count": 15,
   "metadata": {},
   "outputs": [
    {
     "name": "stdout",
     "output_type": "stream",
     "text": [
      "Faturamento total foi: R$261486\n",
      "melhor valor: 49051 de nov, representado: 18.759%, do ano\n"
     ]
    }
   ],
   "source": [
    "print ('Faturamento total foi: R${}'.format(sum(vendas_1sem)))\n",
    "print ('melhor valor: {0} de {1}, representado: {2:.3%}, do ano'.format(melhor,meses[i_melhor],melhor/sum(vendas_1sem)))"
   ]
  },
  {
   "cell_type": "markdown",
   "metadata": {},
   "source": [
    "## 3. Crie uma lista com o top 3 valores de vendas do ano (sem fazer \"no olho\")\n",
    "\n",
    "Dica: o método remove retira um item da lista."
   ]
  },
  {
   "cell_type": "code",
   "execution_count": 36,
   "metadata": {},
   "outputs": [
    {
     "name": "stdout",
     "output_type": "stream",
     "text": [
      "[49051]\n",
      "[49051, 29000]\n",
      "[49051, 29000, 25000]\n"
     ]
    }
   ],
   "source": [
    "top3 = []\n",
    "melhor = max(vendas_1sem)\n",
    "i_melhor = vendas_1sem.index(melhor)\n",
    "top3.append (melhor)\n",
    "vendas_1sem.pop(i_melhor)\n",
    "print (top3)\n",
    "\n",
    "melhor = max(vendas_1sem)\n",
    "i_melhor = vendas_1sem.index(melhor)\n",
    "top3.append (vendas_1sem.pop(i_melhor))\n",
    "print (top3)\n",
    "\n",
    "top3.append (max(vendas_1sem))\n",
    "print (top3)\n"
   ]
  },
  {
   "cell_type": "code",
   "execution_count": 43,
   "metadata": {},
   "outputs": [
    {
     "name": "stdout",
     "output_type": "stream",
     "text": [
      "[9650, 15555, 15870, 17540, 17750, 19850, 19900, 20120, 22200, 25000, 29000, 49051]\n",
      "None\n"
     ]
    }
   ],
   "source": [
    "top3 = []\n",
    "vendas_1sem.sort()\n",
    "print (vendas_1sem)\n",
    "top3 = vendas_1sem[-3:]\n",
    "print (top3.sort(reverse = True))"
   ]
  }
 ],
 "metadata": {
  "kernelspec": {
   "display_name": "Python 3",
   "language": "python",
   "name": "python3"
  },
  "language_info": {
   "codemirror_mode": {
    "name": "ipython",
    "version": 3
   },
   "file_extension": ".py",
   "mimetype": "text/x-python",
   "name": "python",
   "nbconvert_exporter": "python",
   "pygments_lexer": "ipython3",
   "version": "3.8.8"
  }
 },
 "nbformat": 4,
 "nbformat_minor": 4
}
