{
 "cells": [
  {
   "cell_type": "markdown",
   "metadata": {},
   "source": [
    "# Exercícios\n",
    "\n",
    "## 1. Cadastro de CPF\n",
    "\n",
    "Crie um programa para cadastro de CPF de clientes que recebe o CPF em um input box apenas com números.\n",
    "\n",
    "Ex: 'Insira seu CPF (digite apenas números)'\n",
    "\n",
    "Caso o usuário digite algo diferente de números ou digite menos de 11 caracteres (tamanho do CPF brasileiro), o programa deve exibir uma mensagem de \"Digite seu CPF corretamente e digite apenas números\""
   ]
  },
  {
   "cell_type": "code",
   "execution_count": 13,
   "metadata": {},
   "outputs": [
    {
     "name": "stdout",
     "output_type": "stream",
     "text": [
      "Digite seu CPF, lembrando: 11 digitos, somente numeros555\n",
      "555\n",
      "CPF inválido\n"
     ]
    }
   ],
   "source": [
    "cpf = str(input('Digite seu CPF, lembrando: 11 digitos, somente numeros'))\n",
    "print (cpf)\n",
    "type (cpf)\n",
    "\n",
    "#if cpf.isnumeric() and (cpf.len() == 11):\n",
    "#---------------------------------------------------------------------------\n",
    "#AttributeError                            Traceback (most recent call last)\n",
    "#<ipython-input-9-7c950ba1aa06> in <module>\n",
    "#      3 type (cpf)\n",
    "#     4 \n",
    "#----> 5 if cpf.isnumeric() and (cpf.len() == 11):\n",
    "#      6     type (cpf)\n",
    "#\n",
    "#AttributeError: 'str' object has no attribute 'len'\n",
    "if cpf.isnumeric() and (len(cpf) == 11):\n",
    "    print ('CPF validado parcialmente: {}'.format(cpf))\n",
    "else:\n",
    "    print ('CPF inválido')"
   ]
  },
  {
   "cell_type": "markdown",
   "metadata": {},
   "source": [
    "## 2. Melhorando nosso Cadastro de CPF\n",
    "\n",
    "Agora, além das validações anteriores, vamos criar um input que permita que o usuário insira pontos, traços e inclusive espaços vazios.\n",
    "\n",
    "Nosso programa deve \"tratar\" o que o usuário inserir para padronizar o CPF dele em apenas números.\n",
    "\n",
    "A verificação de tamanho do CPF com 11 caracteres continua válida, mas ela só deve ser feita depois de retirar todos os pontos, traços e espaços do CPF que o cliente inserir e, uma vez retirados pontos, traços e espaços, devem sobrar apenas números no CPF. Qualquer outro caractere deve ser considerado inválido.\n",
    "\n",
    "No final, nosso programa deve exibir uma mensagem para o usuário, caso ele tenha inserido o CPF inválido ou então apenas deve printar o CPF correto já só com número."
   ]
  },
  {
   "cell_type": "code",
   "execution_count": 2,
   "metadata": {},
   "outputs": [
    {
     "ename": "SyntaxError",
     "evalue": "unexpected EOF while parsing (<ipython-input-2-1fe9c6356c98>, line 32)",
     "output_type": "error",
     "traceback": [
      "\u001b[1;36m  File \u001b[1;32m\"<ipython-input-2-1fe9c6356c98>\"\u001b[1;36m, line \u001b[1;32m32\u001b[0m\n\u001b[1;33m    print ('replace_{}' .format(cpf)\u001b[0m\n\u001b[1;37m                                    ^\u001b[0m\n\u001b[1;31mSyntaxError\u001b[0m\u001b[1;31m:\u001b[0m unexpected EOF while parsing\n"
     ]
    }
   ],
   "source": [
    "cpf = str(input('Digite seu CPF, lembrando: 11 digitos, somente numeros'))\n",
    "\n",
    "if cpf.isnumeric() and (len(cpf) == 11):\n",
    "    print ('CPF validado parcialmente: {}'.format(cpf))\n",
    "else:\n",
    "#    cpf = cpf.strip(' ', ',' '.','-','/')\n",
    "#---------------------------------------------------------------------------\n",
    "#TypeError                                 Traceback (most recent call last)\n",
    "#<ipython-input-18-69fe347a91d8> in <module>\n",
    "#      4     print ('CPF validado parcialmente: {}'.format(cpf))\n",
    "#      5 else:\n",
    "#----> 6     cpf = cpf.strip(' ', ',' '.','-','/')\n",
    "#      7     print ('strip_{}' .format(cpf))\n",
    "#      8     print ('CPF inválido')\n",
    "#\n",
    "#TypeError: strip expected at most 1 argument, got 4\n",
    "\n",
    "#NAO FUNCIONA:\n",
    "#    cpf = cpf.strip(' ')\n",
    "#    cpf = cpf.strip(',')\n",
    "#    cpf = cpf.strip('.')\n",
    "#    cpf = cpf.strip('-')\n",
    "\n",
    "#APOS CONSULTA GOOGLE, tb não funciona:\n",
    "#    cpft = cpf.strip(\",./- \")\n",
    "#    print ('strip_{}' .format(cpft))\n",
    "#    print ('CPF inválido')\n",
    "#    print (cpf.strip(\",./- \"))\n",
    "    cpf = cpf.replace('.', '')\n",
    "    cpf = cpf.replace('-', '')\n",
    "    cpf = cpf.replace(' ', '')\n",
    "print ('replace_{}' .format(cpf)\n"
   ]
  },
  {
   "cell_type": "code",
   "execution_count": 4,
   "metadata": {},
   "outputs": [
    {
     "name": "stdout",
     "output_type": "stream",
     "text": [
      "Digite seu CPF, lembrando: 11 digitos, somente numeros132.54  .4\n",
      "replace_132544\n"
     ]
    }
   ],
   "source": [
    "cpf = str(input('Digite seu CPF, lembrando: 11 digitos, somente numeros'))\n",
    "\n",
    "if cpf.isnumeric() and (len(cpf) == 11):\n",
    "    print ('CPF validado parcialmente: {}'.format(cpf))\n",
    "else:\n",
    "    cpf = cpf.replace('.', '')\n",
    "    cpf = cpf.replace('-', '')\n",
    "    cpf = cpf.replace(' ', '')\n",
    "print ('replace_{}' .format(cpf))"
   ]
  },
  {
   "cell_type": "markdown",
   "metadata": {},
   "source": [
    "## 3. Cadastro de e-mails\n",
    "\n",
    "- A Hashtag sempre se comunica com seus clientes por e-mail. Para isso, a gente tem em cada página um cadastro de nome e e-mail. Nesse cadastro, nosso sistema verifica se o e-mail que a pessoa inseriu é um e-mail válido, verificando se ele tem '@' e se depois do '@' tem algum ponto, afinal:\n",
    "\n",
    "- liragmail.com NÃO é um e-mail válido\n",
    "- lira@gmail NÃO é um e-mail válido\n",
    "- lira@gmail.com é um e-mail válido\n",
    "\n",
    "Crie um programa que permita o cadastro de nome e e-mail de uma pessoa (por meio de inputs) e que verifique:\n",
    "1. Se nome e e-mail foram preenchidos, caso contrário ele deve avisar para preencher todos os dados corretamente\n",
    "2. Se o e-mail contém '@' e se depois do '@' existe algum '.', caso contrário ele deve exibir uma mensagem de e-mail inválido\n",
    "\n",
    "Obs: Pode te ajudar lembrar do método .find da aula de Métodos de String. Você pode testar o que ele dá como resposta caso ele não encontre um item dentro da string"
   ]
  },
  {
   "cell_type": "code",
   "execution_count": null,
   "metadata": {},
   "outputs": [],
   "source": []
  }
 ],
 "metadata": {
  "kernelspec": {
   "display_name": "Python 3",
   "language": "python",
   "name": "python3"
  },
  "language_info": {
   "codemirror_mode": {
    "name": "ipython",
    "version": 3
   },
   "file_extension": ".py",
   "mimetype": "text/x-python",
   "name": "python",
   "nbconvert_exporter": "python",
   "pygments_lexer": "ipython3",
   "version": "3.8.8"
  }
 },
 "nbformat": 4,
 "nbformat_minor": 4
}
