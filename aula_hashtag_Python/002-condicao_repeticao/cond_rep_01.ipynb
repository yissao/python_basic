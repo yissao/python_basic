{
 "cells": [
  {
   "cell_type": "markdown",
   "id": "c6e085cc",
   "metadata": {},
   "source": [
    "# if"
   ]
  },
  {
   "cell_type": "code",
   "execution_count": 5,
   "id": "81c66b2d",
   "metadata": {},
   "outputs": [
    {
     "name": "stdout",
     "output_type": "stream",
     "text": [
      "Infelizmente não batemos a meta, vendemos 50000 unidades, a meta era de 50000 unidades\n"
     ]
    }
   ],
   "source": [
    "meta = 50000\n",
    "qtde_vendida = 50000\n",
    "\n",
    "if qtde_vendida > meta:\n",
    "    print('Batemos a meta de vendas, vendemos {} unidades'.format(qtde_vendida))\n",
    "else:\n",
    "    print('Infelizmente não batemos a meta, vendemos {} unidades, a meta era de {} unidades'.format(qtde_vendida, meta))"
   ]
  },
  {
   "cell_type": "markdown",
   "id": "517a513e",
   "metadata": {},
   "source": [
    "## Exemplo\n",
    "Vamos fazer um novo exemplo abaixo:\n",
    "\n",
    "Digamos que você precisa criar um programa para um fundo de investimentos conseguir avaliar o resultado de uma carteira de ações e o quanto de taxa deverá ser pago.\n",
    "\n",
    "A regra desse fundo de investimentos é:\n",
    "\n",
    "- O fundo se compromete a entregar no mínimo 5% de retorno ao ano.\n",
    "- Caso o fundo não consiga entregar os 5% de retorno, ele não pode cobrar taxa dos seus investidores.\n",
    "- Caso o fundo consiga entregar mais de 5% de retorno, ele irá cobrar 2% de taxa dos seus investidores.\n",
    "- Caso o fundo consiga mais de 20% de retorno, ele irá cobrar 4% de taxa dos seus investidores."
   ]
  },
  {
   "cell_type": "code",
   "execution_count": 9,
   "id": "5ab46efe",
   "metadata": {},
   "outputs": [
    {
     "name": "stdout",
     "output_type": "stream",
     "text": [
      "taxa de 4%\n"
     ]
    }
   ],
   "source": [
    "retorno = 0.21\n",
    "taxa = 0\n",
    "\n",
    "if retorno > 0.05:\n",
    "    if retorno > 0.2:\n",
    "        print ('taxa de 4%')\n",
    "    else:\n",
    "        print ('taxa de 2%')\n",
    "else:\n",
    "    print ('taxa 0')"
   ]
  }
 ],
 "metadata": {
  "kernelspec": {
   "display_name": "Python 3",
   "language": "python",
   "name": "python3"
  },
  "language_info": {
   "codemirror_mode": {
    "name": "ipython",
    "version": 3
   },
   "file_extension": ".py",
   "mimetype": "text/x-python",
   "name": "python",
   "nbconvert_exporter": "python",
   "pygments_lexer": "ipython3",
   "version": "3.8.8"
  }
 },
 "nbformat": 4,
 "nbformat_minor": 5
}
