{
 "cells": [
  {
   "cell_type": "markdown",
   "id": "19a435a8",
   "metadata": {},
   "source": [
    "# if"
   ]
  },
  {
   "cell_type": "code",
   "execution_count": 4,
   "id": "24b40da3",
   "metadata": {},
   "outputs": [
    {
     "name": "stdout",
     "output_type": "stream",
     "text": [
      "Infelizmente não batemos a meta, vendemos 50000 unidades, a meta era de 50000 unidades\n"
     ]
    }
   ],
   "source": [
    "meta = 50000\n",
    "qtde_vendida = 50000\n",
    "\n",
    "if qtde_vendida > meta:\n",
    "    print('Batemos a meta de vendas, vendemos {} unidades'.format(qtde_vendida))\n",
    "else:\n",
    "    print('Infelizmente não batemos a meta, vendemos {} unidades, a meta era de {} unidades'.format(qtde_vendida, meta))"
   ]
  }
 ],
 "metadata": {
  "kernelspec": {
   "display_name": "Python 3",
   "language": "python",
   "name": "python3"
  },
  "language_info": {
   "codemirror_mode": {
    "name": "ipython",
    "version": 3
   },
   "file_extension": ".py",
   "mimetype": "text/x-python",
   "name": "python",
   "nbconvert_exporter": "python",
   "pygments_lexer": "ipython3",
   "version": "3.8.8"
  }
 },
 "nbformat": 4,
 "nbformat_minor": 5
}
