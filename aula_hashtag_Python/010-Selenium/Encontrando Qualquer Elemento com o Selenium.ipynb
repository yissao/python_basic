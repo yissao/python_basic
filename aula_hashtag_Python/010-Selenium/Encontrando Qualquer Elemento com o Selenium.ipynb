{
 "cells": [
  {
   "cell_type": "markdown",
   "id": "fa819a6e",
   "metadata": {},
   "source": [
    "### XPath\n",
    "\n",
    "- Vantagem: Serve para qualquer elemento e é fácil de aplicar\n",
    "- Desvantagem: Dependendo do XPath, alterações mais simples no site podem fazer ele parar de funcionar (coisa que com id e classe é mais difícil de acontecer)"
   ]
  },
  {
   "cell_type": "code",
   "execution_count": 3,
   "id": "fac6513c",
   "metadata": {},
   "outputs": [],
   "source": [
    "# Vamos preencher o mesmo formulário da última aula e enviar as informações, no site da hashtag\n",
    "from selenium import webdriver\n",
    "\n",
    "driver = webdriver.Chrome()\n",
    "\n",
    "driver.get(\"https://hashtagtreinamentos.com\")"
   ]
  },
  {
   "cell_type": "code",
   "execution_count": 4,
   "id": "dd1930b6",
   "metadata": {},
   "outputs": [],
   "source": [
    "driver.find_element_by_xpath('//*[@id=\"fullname\"]').send_keys(\"Lira\")\n",
    "driver.find_element_by_xpath('//*[@id=\"email\"]').send_keys(\"pythonimpressionador@gmail.com\")\n",
    "driver.find_element_by_xpath('//*[@id=\"_form_173_submit\"]').click()"
   ]
  },
  {
   "cell_type": "code",
   "execution_count": null,
   "id": "0af9877c",
   "metadata": {},
   "outputs": [],
   "source": []
  }
 ],
 "metadata": {
  "kernelspec": {
   "display_name": "Python 3",
   "language": "python",
   "name": "python3"
  },
  "language_info": {
   "codemirror_mode": {
    "name": "ipython",
    "version": 3
   },
   "file_extension": ".py",
   "mimetype": "text/x-python",
   "name": "python",
   "nbconvert_exporter": "python",
   "pygments_lexer": "ipython3",
   "version": "3.8.8"
  }
 },
 "nbformat": 4,
 "nbformat_minor": 5
}
