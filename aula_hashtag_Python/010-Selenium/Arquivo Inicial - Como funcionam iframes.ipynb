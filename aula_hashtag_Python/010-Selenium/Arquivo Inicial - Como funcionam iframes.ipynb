{
 "cells": [
  {
   "cell_type": "markdown",
   "id": "4f734f6b",
   "metadata": {},
   "source": [
    "### iFrames - Páginas dentro de Páginas\n",
    "\n",
    "- Às vezes, você vai fazer tudo certo no Selenium e aparentemente não vai funcionar o seu código\n",
    "\n",
    "- Possivelmente o elemento que você está tentando selecionar está dentro de um iframe"
   ]
  },
  {
   "cell_type": "code",
   "execution_count": null,
   "id": "f8cf076b",
   "metadata": {},
   "outputs": [],
   "source": [
    "# QUeremos pegar o pontos por jogo mandante da 1ª linha da tabela\n",
    "\n",
    "link = \"https://pbdatatrader.com.br/jogosdodia\"\n",
    "\n",
    "# Normalmente:\n"
   ]
  },
  {
   "cell_type": "code",
   "execution_count": null,
   "id": "4072e7b5",
   "metadata": {},
   "outputs": [],
   "source": []
  }
 ],
 "metadata": {
  "kernelspec": {
   "display_name": "Python 3",
   "language": "python",
   "name": "python3"
  },
  "language_info": {
   "codemirror_mode": {
    "name": "ipython",
    "version": 3
   },
   "file_extension": ".py",
   "mimetype": "text/x-python",
   "name": "python",
   "nbconvert_exporter": "python",
   "pygments_lexer": "ipython3",
   "version": "3.8.8"
  }
 },
 "nbformat": 4,
 "nbformat_minor": 5
}
