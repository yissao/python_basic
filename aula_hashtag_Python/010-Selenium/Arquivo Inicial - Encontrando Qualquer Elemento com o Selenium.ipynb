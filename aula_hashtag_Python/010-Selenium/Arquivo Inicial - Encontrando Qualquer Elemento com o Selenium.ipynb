{
 "cells": [
  {
   "cell_type": "markdown",
   "id": "56c3d908",
   "metadata": {},
   "source": [
    "### XPath\n",
    "\n",
    "- Vantagem: Serve para qualquer elemento e é fácil de aplicar\n",
    "- Desvantagem: Dependendo do XPath, alterações mais simples no site podem fazer ele parar de funcionar (coisa que com id e classe é mais difícil de acontecer)"
   ]
  },
  {
   "cell_type": "code",
   "execution_count": null,
   "id": "c4e873a6",
   "metadata": {},
   "outputs": [],
   "source": [
    "# Vamos preencher o mesmo formulário da última aula e enviar as informações, no site da hashtag\n",
    "from selenium import webdriver\n",
    "\n",
    "driver = webdriver.Chrome()\n",
    "\n",
    "driver.get(\"https://hashtagtreinamentos.com\")"
   ]
  }
 ],
 "metadata": {
  "kernelspec": {
   "display_name": "Python 3",
   "language": "python",
   "name": "python3"
  },
  "language_info": {
   "codemirror_mode": {
    "name": "ipython",
    "version": 3
   },
   "file_extension": ".py",
   "mimetype": "text/x-python",
   "name": "python",
   "nbconvert_exporter": "python",
   "pygments_lexer": "ipython3",
   "version": "3.8.8"
  }
 },
 "nbformat": 4,
 "nbformat_minor": 5
}
