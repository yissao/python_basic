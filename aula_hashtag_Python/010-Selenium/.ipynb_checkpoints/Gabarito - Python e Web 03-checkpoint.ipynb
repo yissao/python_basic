{
 "cells": [
  {
   "cell_type": "markdown",
   "metadata": {},
   "source": [
    "# Uma Dica Rápida - Abrir navegador sem mostrar"
   ]
  },
  {
   "cell_type": "code",
   "execution_count": 4,
   "metadata": {},
   "outputs": [
    {
     "name": "stdout",
     "output_type": "stream",
     "text": [
      "O Melhor Curso de Excel Avançado Online - Hashtag Treinamentos\n"
     ]
    }
   ],
   "source": [
    "from selenium import webdriver\n",
    "\n",
    "chrome_options = webdriver.ChromeOptions()\n",
    "chrome_options.add_argument('headless')\n",
    "driver = webdriver.Chrome(options=chrome_options)\n",
    "driver.get('http://hashtagtreinamentos.com')\n",
    "print(driver.title)"
   ]
  },
  {
   "cell_type": "markdown",
   "metadata": {},
   "source": [
    "# Como funciona \"navegar\" na Web -> Web-Scraping\n",
    "\n",
    "- Parâmetros de URL\n",
    "\n",
    "- Páginas e Código dos Sites"
   ]
  },
  {
   "cell_type": "code",
   "execution_count": 6,
   "metadata": {},
   "outputs": [],
   "source": [
    "from selenium import webdriver\n",
    "\n",
    "driver = webdriver.Chrome()\n",
    "driver.get('http://google.com/search?q=hashtag+treinamentos')"
   ]
  }
 ],
 "metadata": {
  "kernelspec": {
   "display_name": "Python 3",
   "language": "python",
   "name": "python3"
  },
  "language_info": {
   "codemirror_mode": {
    "name": "ipython",
    "version": 3
   },
   "file_extension": ".py",
   "mimetype": "text/x-python",
   "name": "python",
   "nbconvert_exporter": "python",
   "pygments_lexer": "ipython3",
   "version": "3.8.8"
  }
 },
 "nbformat": 4,
 "nbformat_minor": 4
}
