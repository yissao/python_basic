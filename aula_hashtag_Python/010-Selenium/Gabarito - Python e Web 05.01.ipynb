{
 "cells": [
  {
   "cell_type": "markdown",
   "metadata": {},
   "source": [
    "# Métodos Úteis para Selenium\n",
    "\n",
    "1. Apesar de não ser do selenium, a biblioteca time vai ajudar muito a gente, para esperar a página carregar ou esperar algo acontecer."
   ]
  },
  {
   "cell_type": "raw",
   "metadata": {},
   "source": [
    "import time\n",
    "\n",
    "time.sleep(2) -> espera 2 segundos"
   ]
  },
  {
   "cell_type": "markdown",
   "metadata": {},
   "source": [
    "2. Para selecionar elementos teremos os find_element e find_elements -> a biblioteca tem vários exemplos disso aqui: https://selenium-python.readthedocs.io/locating-elements.html"
   ]
  },
  {
   "cell_type": "raw",
   "metadata": {},
   "source": [
    "elemento = driver.find_element_by_id('id_do_objeto') -> 1 único elemento com aquele id\n",
    "\n",
    "elementos = driver.find_elements_by_id('id_do_objeto') -> lista com vários elementos com aquele id\n",
    "\n",
    "Normalmente id é único, mas isso não é 100% garantido."
   ]
  },
  {
   "cell_type": "markdown",
   "metadata": {},
   "source": [
    "3. Clicar em um elemento"
   ]
  },
  {
   "cell_type": "raw",
   "metadata": {},
   "source": [
    "elemento.click()"
   ]
  },
  {
   "cell_type": "markdown",
   "metadata": {},
   "source": [
    "4. Para preencher um formulário, usaremos o send_keys. A biblioteca do selenium tem o KEYS que vamos importar porque isso pode ajudar"
   ]
  },
  {
   "cell_type": "raw",
   "metadata": {},
   "source": [
    "from selenium.webdriver.common.keys import Keys\n",
    "\n",
    "elemento_input.send_keys('texto') -> preenche o campo com texto\n",
    "elemento_input.send_keys(Keys.RETURN) -> dá enter no campo"
   ]
  },
  {
   "cell_type": "markdown",
   "metadata": {},
   "source": [
    "5. Para selecionar um objeto pelo css dele, podemos usar o css_selector"
   ]
  },
  {
   "cell_type": "raw",
   "metadata": {},
   "source": [
    "link_classe = driver.find_elements_by_css_selector('tag.classe')"
   ]
  },
  {
   "cell_type": "code",
   "execution_count": 16,
   "metadata": {},
   "outputs": [],
   "source": [
    "from selenium import webdriver\n",
    "import time\n",
    "\n",
    "driver = webdriver.Chrome()\n",
    "driver.get('https:hashtagtreinamentos.com')\n",
    "time.sleep(3)\n",
    "#driver.find_element_by_css_selector('a.btn-laranja').click()\n",
    "elementos = driver.find_elements_by_name('fullname')\n",
    "elementos[0].send_keys('Lira')\n",
    "elementos = driver.find_elements_by_name('email')\n",
    "elementos[0].send_keys('joaoprlira@gmail.com')\n",
    "driver.find_element_by_id('_form_173_submit').click()"
   ]
  }
 ],
 "metadata": {
  "kernelspec": {
   "display_name": "Python 3",
   "language": "python",
   "name": "python3"
  },
  "language_info": {
   "codemirror_mode": {
    "name": "ipython",
    "version": 3
   },
   "file_extension": ".py",
   "mimetype": "text/x-python",
   "name": "python",
   "nbconvert_exporter": "python",
   "pygments_lexer": "ipython3",
   "version": "3.8.3"
  }
 },
 "nbformat": 4,
 "nbformat_minor": 4
}
