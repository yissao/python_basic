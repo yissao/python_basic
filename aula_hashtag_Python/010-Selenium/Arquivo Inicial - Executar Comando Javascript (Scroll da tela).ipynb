{
 "cells": [
  {
   "cell_type": "markdown",
   "id": "a149c054",
   "metadata": {},
   "source": [
    "### Executar Comandos Javascript (Scroll da tela)\n",
    "\n",
    "- Você consegue, por meio do Selenium, executar comandos javascript no seu navegador\n",
    "\n",
    "- Isso é essencial para dar scroll na tela, por exemplo, caso seja necessário, como no youtube"
   ]
  },
  {
   "cell_type": "code",
   "execution_count": null,
   "id": "dabcb19b",
   "metadata": {},
   "outputs": [],
   "source": [
    "# quero pegar uma lista de pelo menos 50 vídeos de Python no Youtube\n",
    "\n",
    "from selenium import webdriver\n",
    "\n",
    "driver = webdriver.Chrome()\n",
    "driver.get(\"https://youtube.com\")\n"
   ]
  },
  {
   "cell_type": "code",
   "execution_count": null,
   "id": "34aa11fe",
   "metadata": {},
   "outputs": [],
   "source": []
  }
 ],
 "metadata": {
  "kernelspec": {
   "display_name": "Python 3",
   "language": "python",
   "name": "python3"
  },
  "language_info": {
   "codemirror_mode": {
    "name": "ipython",
    "version": 3
   },
   "file_extension": ".py",
   "mimetype": "text/x-python",
   "name": "python",
   "nbconvert_exporter": "python",
   "pygments_lexer": "ipython3",
   "version": "3.8.8"
  }
 },
 "nbformat": 4,
 "nbformat_minor": 5
}
